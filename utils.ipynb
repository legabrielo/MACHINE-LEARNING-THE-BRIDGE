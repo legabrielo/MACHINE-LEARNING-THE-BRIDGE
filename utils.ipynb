{
 "cells": [
  {
   "cell_type": "code",
   "execution_count": 1,
   "metadata": {},
   "outputs": [],
   "source": [
    "def ad_test(df):\n",
    "    dftest = adfuller(df, autolag = 'AIC')\n",
    "    print('1. ADF:', dftest[0])\n",
    "    print('2. P-value:', dftest[1])\n",
    "    print('3. Number of lags:', dftest[2])\n",
    "    print('4. Nume of observtions used for ADF Regression and Critical Values Calculation:', dftest[3])\n",
    "    print('5. Critical Values:')\n",
    "    for key, val in dftest[4].items():\n",
    "        print('\\t', key, \":\", val)"
   ]
  }
 ],
 "metadata": {
  "kernelspec": {
   "display_name": "Python 3.7.4 64-bit",
   "language": "python",
   "name": "python3"
  },
  "language_info": {
   "codemirror_mode": {
    "name": "ipython",
    "version": 3
   },
   "file_extension": ".py",
   "mimetype": "text/x-python",
   "name": "python",
   "nbconvert_exporter": "python",
   "pygments_lexer": "ipython3",
   "version": "3.7.4"
  },
  "orig_nbformat": 4,
  "vscode": {
   "interpreter": {
    "hash": "bf578ae2f05cd0bf79fc58c6d9676327b42cc704d3c90195b19dcfd7d863a264"
   }
  }
 },
 "nbformat": 4,
 "nbformat_minor": 2
}
