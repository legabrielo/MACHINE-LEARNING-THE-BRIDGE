{
 "cells": [
  {
   "cell_type": "markdown",
   "metadata": {},
   "source": [
    "EL PROYECTO DE MACHINE LEARNING SERA (PREDECIR- RECOMENDAR) CUAL SERA EL PROXIMO RESTAURANTE CON 5 ESTRELLAS DE RATING ABIERTO EN MADRID. LA IDEA ES DECIR QUE TIPO DE COMIDA Y EN QUE ZONA DE MADRID SE ABRIRA ESTE RESTAURANTE ESTO ES SELENIUM \n"
   ]
  },
  {
   "cell_type": "code",
   "execution_count": 1,
   "metadata": {},
   "outputs": [],
   "source": [
    "#Para la manipulación de datos\n",
    "import pandas as pd\n",
    "import time\n",
    "import numpy as np\n",
    "\n",
    "#Servicio y driver de Chrome de Selenium\n",
    "from selenium import webdriver\n",
    "from selenium.webdriver.chrome.service import Service\n",
    "from webdriver_manager.chrome import ChromeDriverManager\n",
    "\n",
    "#Las opciones que vamos a tener para buscar elementos\n",
    "from selenium.webdriver.common.by import By\n",
    "\n",
    "#Para cuando queramos mandar pulsaciones de teclado\n",
    "from selenium.webdriver.common.keys import Keys\n",
    "\n",
    "# #Prueba con Soup \n",
    "# from bs4 import BeautifulSoup as bs \n",
    "# import requests"
   ]
  },
  {
   "cell_type": "code",
   "execution_count": 14,
   "metadata": {},
   "outputs": [],
   "source": [
    "service = Service(ChromeDriverManager().install())\n",
    "driver = webdriver.Chrome(service=service)\n",
    "time.sleep(2)"
   ]
  },
  {
   "cell_type": "code",
   "execution_count": 15,
   "metadata": {},
   "outputs": [],
   "source": [
    "url = 'https://www.tripadvisor.es/Restaurants-g187514-Madrid.html'\n",
    "driver.get(url)\n"
   ]
  },
  {
   "cell_type": "code",
   "execution_count": 19,
   "metadata": {},
   "outputs": [
    {
     "name": "stdout",
     "output_type": "stream",
     "text": [
      "Acepto\n"
     ]
    }
   ],
   "source": [
    "\n",
    "\n",
    "## Encontrar elementos por clase\n",
    "# elements_by_class_name = driver.find_element(By.CLASS_NAME, 'ot-sdk-row')\n",
    "# print(elements_by_class_name.text)\n",
    "\n",
    "elements_by_ID = driver.find_element(By.ID, 'onetrust-accept-btn-handler')\n",
    "print(elements_by_ID.text)\n",
    "# elements_by_ID esta hecho para encontrar el boton de aceptar, este es el que sirve"
   ]
  },
  {
   "cell_type": "code",
   "execution_count": 17,
   "metadata": {},
   "outputs": [],
   "source": [
    "acepto = driver.find_element(By.ID, 'onetrust-accept-btn-handler')\n",
    "acepto.click()"
   ]
  },
  {
   "cell_type": "code",
   "execution_count": 16,
   "metadata": {},
   "outputs": [
    {
     "ename": "ElementClickInterceptedException",
     "evalue": "Message: element click intercepted: Element <a data-page-number=\"2\" data-offset=\"30\" href=\"/Restaurants-g187514-oa30-Madrid.html#EATERY_LIST_CONTENTS\" class=\"pageNum taLnk\" onclick=\"      require('common/Radio')('restaurant-filters').emit('paginate', this.getAttribute('data-offset'));; ta.trackEventOnPage('STANDARD_PAGINATION', 'page', '2', 0); return false;\n  \">...</a> is not clickable at point (539, 513). Other element would receive the click: <div class=\"onetrust-pc-dark-filter ot-fade-in\" style=\"z-index:2147483645;\"></div>\n  (Session info: chrome=107.0.5304.107)\nStacktrace:\nBacktrace:\n\tOrdinal0 [0x003BACD3+2075859]\n\tOrdinal0 [0x0034EE61+1633889]\n\tOrdinal0 [0x0024B7BD+571325]\n\tOrdinal0 [0x00281499+791705]\n\tOrdinal0 [0x0027F4AC+783532]\n\tOrdinal0 [0x0027D0AB+774315]\n\tOrdinal0 [0x0027BD37+769335]\n\tOrdinal0 [0x00271C76+728182]\n\tOrdinal0 [0x0029731C+881436]\n\tOrdinal0 [0x002715BF+726463]\n\tOrdinal0 [0x00297534+881972]\n\tOrdinal0 [0x002AB56A+963946]\n\tOrdinal0 [0x00297136+880950]\n\tOrdinal0 [0x0026FEFD+720637]\n\tOrdinal0 [0x00270F3F+724799]\n\tGetHandleVerifier [0x0066EED2+2769538]\n\tGetHandleVerifier [0x00660D95+2711877]\n\tGetHandleVerifier [0x0044A03A+521194]\n\tGetHandleVerifier [0x00448DA0+516432]\n\tOrdinal0 [0x0035682C+1665068]\n\tOrdinal0 [0x0035B128+1683752]\n\tOrdinal0 [0x0035B215+1683989]\n\tOrdinal0 [0x00366484+1729668]\n\tBaseThreadInitThunk [0x765BFEF9+25]\n\tRtlGetAppContainerNamedObjectPath [0x77B17BBE+286]\n\tRtlGetAppContainerNamedObjectPath [0x77B17B8E+238]\n",
     "output_type": "error",
     "traceback": [
      "\u001b[1;31m---------------------------------------------------------------------------\u001b[0m",
      "\u001b[1;31mElementClickInterceptedException\u001b[0m          Traceback (most recent call last)",
      "\u001b[1;32m~\\AppData\\Local\\Temp\\ipykernel_16612\\1272705498.py\u001b[0m in \u001b[0;36m<module>\u001b[1;34m\u001b[0m\n\u001b[0;32m      1\u001b[0m \u001b[0mnext\u001b[0m \u001b[1;33m=\u001b[0m \u001b[0mdriver\u001b[0m\u001b[1;33m.\u001b[0m\u001b[0mfind_element\u001b[0m\u001b[1;33m(\u001b[0m\u001b[0mBy\u001b[0m\u001b[1;33m.\u001b[0m\u001b[0mXPATH\u001b[0m\u001b[1;33m,\u001b[0m\u001b[1;34m'//*[@id=\"EATERY_LIST_CONTENTS\"]/div[3]/div/div/a[1]'\u001b[0m\u001b[1;33m)\u001b[0m\u001b[1;33m\u001b[0m\u001b[1;33m\u001b[0m\u001b[0m\n\u001b[1;32m----> 2\u001b[1;33m \u001b[0mnext\u001b[0m\u001b[1;33m.\u001b[0m\u001b[0mclick\u001b[0m\u001b[1;33m(\u001b[0m\u001b[1;33m)\u001b[0m\u001b[1;33m\u001b[0m\u001b[1;33m\u001b[0m\u001b[0m\n\u001b[0m\u001b[0;32m      3\u001b[0m \u001b[1;31m# con este comando aceptamos las cookies\u001b[0m\u001b[1;33m\u001b[0m\u001b[1;33m\u001b[0m\u001b[1;33m\u001b[0m\u001b[0m\n",
      "\u001b[1;32mc:\\Users\\Gabriel Castillo\\AppData\\Local\\Programs\\Python\\Python37\\lib\\site-packages\\selenium\\webdriver\\remote\\webelement.py\u001b[0m in \u001b[0;36mclick\u001b[1;34m(self)\u001b[0m\n\u001b[0;32m     86\u001b[0m     \u001b[1;32mdef\u001b[0m \u001b[0mclick\u001b[0m\u001b[1;33m(\u001b[0m\u001b[0mself\u001b[0m\u001b[1;33m)\u001b[0m \u001b[1;33m->\u001b[0m \u001b[1;32mNone\u001b[0m\u001b[1;33m:\u001b[0m\u001b[1;33m\u001b[0m\u001b[1;33m\u001b[0m\u001b[0m\n\u001b[0;32m     87\u001b[0m         \u001b[1;34m\"\"\"Clicks the element.\"\"\"\u001b[0m\u001b[1;33m\u001b[0m\u001b[1;33m\u001b[0m\u001b[0m\n\u001b[1;32m---> 88\u001b[1;33m         \u001b[0mself\u001b[0m\u001b[1;33m.\u001b[0m\u001b[0m_execute\u001b[0m\u001b[1;33m(\u001b[0m\u001b[0mCommand\u001b[0m\u001b[1;33m.\u001b[0m\u001b[0mCLICK_ELEMENT\u001b[0m\u001b[1;33m)\u001b[0m\u001b[1;33m\u001b[0m\u001b[1;33m\u001b[0m\u001b[0m\n\u001b[0m\u001b[0;32m     89\u001b[0m \u001b[1;33m\u001b[0m\u001b[0m\n\u001b[0;32m     90\u001b[0m     \u001b[1;32mdef\u001b[0m \u001b[0msubmit\u001b[0m\u001b[1;33m(\u001b[0m\u001b[0mself\u001b[0m\u001b[1;33m)\u001b[0m\u001b[1;33m:\u001b[0m\u001b[1;33m\u001b[0m\u001b[1;33m\u001b[0m\u001b[0m\n",
      "\u001b[1;32mc:\\Users\\Gabriel Castillo\\AppData\\Local\\Programs\\Python\\Python37\\lib\\site-packages\\selenium\\webdriver\\remote\\webelement.py\u001b[0m in \u001b[0;36m_execute\u001b[1;34m(self, command, params)\u001b[0m\n\u001b[0;32m    394\u001b[0m             \u001b[0mparams\u001b[0m \u001b[1;33m=\u001b[0m \u001b[1;33m{\u001b[0m\u001b[1;33m}\u001b[0m\u001b[1;33m\u001b[0m\u001b[1;33m\u001b[0m\u001b[0m\n\u001b[0;32m    395\u001b[0m         \u001b[0mparams\u001b[0m\u001b[1;33m[\u001b[0m\u001b[1;34m'id'\u001b[0m\u001b[1;33m]\u001b[0m \u001b[1;33m=\u001b[0m \u001b[0mself\u001b[0m\u001b[1;33m.\u001b[0m\u001b[0m_id\u001b[0m\u001b[1;33m\u001b[0m\u001b[1;33m\u001b[0m\u001b[0m\n\u001b[1;32m--> 396\u001b[1;33m         \u001b[1;32mreturn\u001b[0m \u001b[0mself\u001b[0m\u001b[1;33m.\u001b[0m\u001b[0m_parent\u001b[0m\u001b[1;33m.\u001b[0m\u001b[0mexecute\u001b[0m\u001b[1;33m(\u001b[0m\u001b[0mcommand\u001b[0m\u001b[1;33m,\u001b[0m \u001b[0mparams\u001b[0m\u001b[1;33m)\u001b[0m\u001b[1;33m\u001b[0m\u001b[1;33m\u001b[0m\u001b[0m\n\u001b[0m\u001b[0;32m    397\u001b[0m \u001b[1;33m\u001b[0m\u001b[0m\n\u001b[0;32m    398\u001b[0m     \u001b[1;32mdef\u001b[0m \u001b[0mfind_element\u001b[0m\u001b[1;33m(\u001b[0m\u001b[0mself\u001b[0m\u001b[1;33m,\u001b[0m \u001b[0mby\u001b[0m\u001b[1;33m=\u001b[0m\u001b[0mBy\u001b[0m\u001b[1;33m.\u001b[0m\u001b[0mID\u001b[0m\u001b[1;33m,\u001b[0m \u001b[0mvalue\u001b[0m\u001b[1;33m=\u001b[0m\u001b[1;32mNone\u001b[0m\u001b[1;33m)\u001b[0m \u001b[1;33m->\u001b[0m \u001b[0mWebElement\u001b[0m\u001b[1;33m:\u001b[0m\u001b[1;33m\u001b[0m\u001b[1;33m\u001b[0m\u001b[0m\n",
      "\u001b[1;32mc:\\Users\\Gabriel Castillo\\AppData\\Local\\Programs\\Python\\Python37\\lib\\site-packages\\selenium\\webdriver\\remote\\webdriver.py\u001b[0m in \u001b[0;36mexecute\u001b[1;34m(self, driver_command, params)\u001b[0m\n\u001b[0;32m    427\u001b[0m         \u001b[0mresponse\u001b[0m \u001b[1;33m=\u001b[0m \u001b[0mself\u001b[0m\u001b[1;33m.\u001b[0m\u001b[0mcommand_executor\u001b[0m\u001b[1;33m.\u001b[0m\u001b[0mexecute\u001b[0m\u001b[1;33m(\u001b[0m\u001b[0mdriver_command\u001b[0m\u001b[1;33m,\u001b[0m \u001b[0mparams\u001b[0m\u001b[1;33m)\u001b[0m\u001b[1;33m\u001b[0m\u001b[1;33m\u001b[0m\u001b[0m\n\u001b[0;32m    428\u001b[0m         \u001b[1;32mif\u001b[0m \u001b[0mresponse\u001b[0m\u001b[1;33m:\u001b[0m\u001b[1;33m\u001b[0m\u001b[1;33m\u001b[0m\u001b[0m\n\u001b[1;32m--> 429\u001b[1;33m             \u001b[0mself\u001b[0m\u001b[1;33m.\u001b[0m\u001b[0merror_handler\u001b[0m\u001b[1;33m.\u001b[0m\u001b[0mcheck_response\u001b[0m\u001b[1;33m(\u001b[0m\u001b[0mresponse\u001b[0m\u001b[1;33m)\u001b[0m\u001b[1;33m\u001b[0m\u001b[1;33m\u001b[0m\u001b[0m\n\u001b[0m\u001b[0;32m    430\u001b[0m             response['value'] = self._unwrap_value(\n\u001b[0;32m    431\u001b[0m                 response.get('value', None))\n",
      "\u001b[1;32mc:\\Users\\Gabriel Castillo\\AppData\\Local\\Programs\\Python\\Python37\\lib\\site-packages\\selenium\\webdriver\\remote\\errorhandler.py\u001b[0m in \u001b[0;36mcheck_response\u001b[1;34m(self, response)\u001b[0m\n\u001b[0;32m    241\u001b[0m                 \u001b[0malert_text\u001b[0m \u001b[1;33m=\u001b[0m \u001b[0mvalue\u001b[0m\u001b[1;33m[\u001b[0m\u001b[1;34m'alert'\u001b[0m\u001b[1;33m]\u001b[0m\u001b[1;33m.\u001b[0m\u001b[0mget\u001b[0m\u001b[1;33m(\u001b[0m\u001b[1;34m'text'\u001b[0m\u001b[1;33m)\u001b[0m\u001b[1;33m\u001b[0m\u001b[1;33m\u001b[0m\u001b[0m\n\u001b[0;32m    242\u001b[0m             \u001b[1;32mraise\u001b[0m \u001b[0mexception_class\u001b[0m\u001b[1;33m(\u001b[0m\u001b[0mmessage\u001b[0m\u001b[1;33m,\u001b[0m \u001b[0mscreen\u001b[0m\u001b[1;33m,\u001b[0m \u001b[0mstacktrace\u001b[0m\u001b[1;33m,\u001b[0m \u001b[0malert_text\u001b[0m\u001b[1;33m)\u001b[0m  \u001b[1;31m# type: ignore[call-arg]  # mypy is not smart enough here\u001b[0m\u001b[1;33m\u001b[0m\u001b[1;33m\u001b[0m\u001b[0m\n\u001b[1;32m--> 243\u001b[1;33m         \u001b[1;32mraise\u001b[0m \u001b[0mexception_class\u001b[0m\u001b[1;33m(\u001b[0m\u001b[0mmessage\u001b[0m\u001b[1;33m,\u001b[0m \u001b[0mscreen\u001b[0m\u001b[1;33m,\u001b[0m \u001b[0mstacktrace\u001b[0m\u001b[1;33m)\u001b[0m\u001b[1;33m\u001b[0m\u001b[1;33m\u001b[0m\u001b[0m\n\u001b[0m",
      "\u001b[1;31mElementClickInterceptedException\u001b[0m: Message: element click intercepted: Element <a data-page-number=\"2\" data-offset=\"30\" href=\"/Restaurants-g187514-oa30-Madrid.html#EATERY_LIST_CONTENTS\" class=\"pageNum taLnk\" onclick=\"      require('common/Radio')('restaurant-filters').emit('paginate', this.getAttribute('data-offset'));; ta.trackEventOnPage('STANDARD_PAGINATION', 'page', '2', 0); return false;\n  \">...</a> is not clickable at point (539, 513). Other element would receive the click: <div class=\"onetrust-pc-dark-filter ot-fade-in\" style=\"z-index:2147483645;\"></div>\n  (Session info: chrome=107.0.5304.107)\nStacktrace:\nBacktrace:\n\tOrdinal0 [0x003BACD3+2075859]\n\tOrdinal0 [0x0034EE61+1633889]\n\tOrdinal0 [0x0024B7BD+571325]\n\tOrdinal0 [0x00281499+791705]\n\tOrdinal0 [0x0027F4AC+783532]\n\tOrdinal0 [0x0027D0AB+774315]\n\tOrdinal0 [0x0027BD37+769335]\n\tOrdinal0 [0x00271C76+728182]\n\tOrdinal0 [0x0029731C+881436]\n\tOrdinal0 [0x002715BF+726463]\n\tOrdinal0 [0x00297534+881972]\n\tOrdinal0 [0x002AB56A+963946]\n\tOrdinal0 [0x00297136+880950]\n\tOrdinal0 [0x0026FEFD+720637]\n\tOrdinal0 [0x00270F3F+724799]\n\tGetHandleVerifier [0x0066EED2+2769538]\n\tGetHandleVerifier [0x00660D95+2711877]\n\tGetHandleVerifier [0x0044A03A+521194]\n\tGetHandleVerifier [0x00448DA0+516432]\n\tOrdinal0 [0x0035682C+1665068]\n\tOrdinal0 [0x0035B128+1683752]\n\tOrdinal0 [0x0035B215+1683989]\n\tOrdinal0 [0x00366484+1729668]\n\tBaseThreadInitThunk [0x765BFEF9+25]\n\tRtlGetAppContainerNamedObjectPath [0x77B17BBE+286]\n\tRtlGetAppContainerNamedObjectPath [0x77B17B8E+238]\n"
     ]
    }
   ],
   "source": [
    "next = driver.find_element(By.XPATH,'//*[@id=\"EATERY_LIST_CONTENTS\"]/div[3]/div/div/a[1]')\n",
    "next.click()\n",
    "# con este comando aceptamos las cookies "
   ]
  },
  {
   "cell_type": "code",
   "execution_count": 7,
   "metadata": {},
   "outputs": [
    {
     "name": "stdout",
     "output_type": "stream",
     "text": [
      "Los mejores restaurantes de Madrid\n",
      "12031 resultados coinciden con tus filtrosBorrar todos los filtros\n",
      "Realizamos verificaciones de todas las opiniones\n"
     ]
    }
   ],
   "source": [
    "prueba = driver.find_element(By.CLASS_NAME, \"Qqvnh\")\n",
    "print(prueba.text)\n",
    "# esta prueba sirve para ver si el selenium esta pillando los textos "
   ]
  },
  {
   "cell_type": "code",
   "execution_count": 8,
   "metadata": {},
   "outputs": [
    {
     "name": "stdout",
     "output_type": "stream",
     "text": [
      "['326 opiniones', 'Abierto ahora', 'Mediterránea, Europea', '€€ - €€€', '116 opiniones', 'Abierto ahora', 'Argentina, Latina', '€€ - €€€', '10.303 opiniones', 'Abierto ahora', 'Española, Internacional', '€€ - €€€', '545 opiniones', 'Abierto ahora', 'Italiana, Pizza', '€€ - €€€', '2518 opiniones', 'Abierto ahora', 'India, Asiática', '€€ - €€€', '1105 opiniones', 'Cerrado ahora', 'Mediterránea, Española', '€€ - €€€', '4 opiniones', 'Cerrado ahora', 'Bar, Pub', '1680 opiniones', 'Abierto ahora', 'Internacional, Mediterránea', '€€ - €€€', '537 opiniones', 'Abierto ahora', 'Japonesa, Sushi', '€€ - €€€', '372 opiniones', 'Abierto ahora', 'Italiana, Mediterránea', '€€ - €€€', '612 opiniones', 'Abierto ahora', 'Restaurante de carne, Barbacoa', '€€ - €€€', '188 opiniones', 'Abierto ahora', 'Café, Mediterránea', '€€ - €€€', '112 opiniones', 'Abierto ahora', 'Mexicana, Latina', '€€ - €€€', '2883 opiniones', 'Abierto ahora', 'Café, Europea', '€€ - €€€', '3368 opiniones', 'Abierto ahora', 'Latina, Bar', '€€ - €€€', '763 opiniones', 'Abierto ahora', 'Peruana, Latina', '€€ - €€€', '1457 opiniones', 'Abierto ahora', 'Mediterránea, Europea', '€€ - €€€', '2968 opiniones', 'Abierto ahora', 'Mexicana, Japonesa', '€€ - €€€', '206 opiniones', 'Abierto ahora', 'Fusión, Japonesa', '€€ - €€€', '1353 opiniones', 'Abierto ahora', 'Italiana, Mediterránea', '€€ - €€€', '2284 opiniones', 'Abierto ahora', 'Italiana, Napolitana', '€€ - €€€', '278 opiniones', 'Abierto ahora', 'Argentina', '€€ - €€€', '193 opiniones', 'Abierto ahora', 'Italiana, Pizza', '288 opiniones', 'Abierto ahora', 'Italiana, Pizza', '€€ - €€€', '1 opinión', '463 opiniones', 'Abierto ahora', 'Japonesa, Sushi', '€€ - €€€', '186 opiniones', 'Abierto ahora', 'Italiana, Pizza', '€€ - €€€', '3008 opiniones', 'Abierto ahora', 'Americana, Barbacoa', '€€ - €€€', '285 opiniones', 'Abierto ahora', 'Mediterránea, Europea', '€€ - €€€', '1736 opiniones', 'Abierto ahora', 'Mediterránea, Europea', '€€ - €€€', '49 opiniones', 'Abierto ahora', 'Japonesa, Saludable', '€€ - €€€', '4033 opiniones', 'Abierto ahora', 'Americana, Restaurante de carne', '€€ - €€€', '186 opiniones', 'Abierto ahora', 'Sushi, Asiática', '€€ - €€€', '575 opiniones', 'Abierto ahora', 'India', '€', '912 opiniones', 'Abierto ahora', 'Fusión', '€€ - €€€', '2903 opiniones', 'Abierto ahora', 'Restaurante de carne, Latina', '€€ - €€€', '250 opiniones', 'Abierto ahora', 'Japonesa, Barbacoa', '€€ - €€€']\n"
     ]
    }
   ],
   "source": [
    "estilo_comida_plata_reviews = driver.find_elements(by=By.CLASS_NAME, value='ABgbd')\n",
    "nombres=[]\n",
    "for nombre in estilo_comida_plata_reviews :\n",
    "    nombres.append(nombre.text)\n",
    "    \n",
    "\n",
    "nombres\n",
    "# en este bucle for tenemos los nombres de la primera pagina \n",
    "# esto ya nos sirve para hacer el primer DF y estan añadidos en una lista \n",
    "print(nombres)"
   ]
  },
  {
   "cell_type": "code",
   "execution_count": 9,
   "metadata": {},
   "outputs": [
    {
     "name": "stdout",
     "output_type": "stream",
     "text": [
      "https://www.tripadvisor.es/Tourism-g187514-Madrid-Vacations.html\n"
     ]
    }
   ],
   "source": [
    "links = driver.find_element(By.CSS_SELECTOR, value =\"a\").get_attribute(\"href\")\n",
    "print(links)\n",
    "# aqui nos sale solo la pagina principal de madrid cuando nos deberia salir /Restaurants-g187514-Madrid-Vacations-html"
   ]
  },
  {
   "cell_type": "code",
   "execution_count": 10,
   "metadata": {},
   "outputs": [
    {
     "name": "stdout",
     "output_type": "stream",
     "text": [
      "https://www.tripadvisor.es/Restaurants-g187514-Madrid.html\n"
     ]
    }
   ],
   "source": [
    "t = driver.current_url\n",
    "print(t)\n",
    "# aqui tenemos el link de todos "
   ]
  },
  {
   "cell_type": "code",
   "execution_count": 11,
   "metadata": {},
   "outputs": [
    {
     "name": "stdout",
     "output_type": "stream",
     "text": [
      "https://www.tripadvisor.es/Tourism-g187514-Madrid-Vacations.html\n"
     ]
    }
   ],
   "source": [
    "enter = driver.find_element(By.CSS_SELECTOR, value =\"a\").get_attribute(\"href\")\n",
    "print(enter)\n",
    "# se me imprim una ñiosta vacia "
   ]
  },
  {
   "cell_type": "code",
   "execution_count": 26,
   "metadata": {},
   "outputs": [
    {
     "data": {
      "text/plain": [
       "['Restaurante Solidere Chueca',\n",
       " '1. Empanadas Malvón',\n",
       " '2. Los Montes de Galicia',\n",
       " '3. Pastamore',\n",
       " '4. Kathmandu Tandoori House',\n",
       " '5. Entre Santos Madrid',\n",
       " 'La Carlota',\n",
       " '6. Ástor',\n",
       " '7. Sibuya Urban Sushi Bar Madrid C/ibiza',\n",
       " '8. Peppe Fusco The Italian',\n",
       " '9. La Vaca Argentina',\n",
       " '10. Brunchit Malasaña',\n",
       " 'La Gamella',\n",
       " '11. Zenith Brunch & Cocktails',\n",
       " '12. Grama Lounge',\n",
       " '13. Pituca Madrid',\n",
       " '14. Restaurante La Gaditana',\n",
       " '15. Sakale',\n",
       " 'Punch Room - The Madrid Edition',\n",
       " '16. Lettera Trattoria moderna',\n",
       " '17. Trattoria Pulcinella',\n",
       " '18. Empanadas Malvón',\n",
       " '19. Oven Mozzarella',\n",
       " '20. Pizzart Villa Luchana',\n",
       " 'Dick Waffle La Pollería de Chueca',\n",
       " '21. Sibuya Urban Sushi Bar Madrid C/Orense',\n",
       " '22. Oven Mozzarella Bernabeu',\n",
       " '23. Steakburger Fuencarral',\n",
       " '24. La Descarada',\n",
       " '25. GastroVía 61',\n",
       " 'Yakiniku Rikyu',\n",
       " '26. Steakburger Gran Vía 16',\n",
       " \"27. Maximo's\",\n",
       " '28. Arpit',\n",
       " '29. La Bistroteca',\n",
       " '30. Mu! El Placer De La Carne',\n",
       " 'Rioko sushi']"
      ]
     },
     "execution_count": 26,
     "metadata": {},
     "output_type": "execute_result"
    }
   ],
   "source": [
    "titulo = driver.find_elements(by=By.CSS_SELECTOR, value=\"div.RfBGI\")\n",
    "nombres=[]\n",
    "for nombre in titulo:\n",
    "    nombres.append(nombre.text)\n",
    "nombres"
   ]
  },
  {
   "cell_type": "code",
   "execution_count": 121,
   "metadata": {},
   "outputs": [],
   "source": [
    "\n",
    "adelante = driver.find_element(By.XPATH, '//*[@id=\"EATERY_LIST_CONTENTS\"]/div[2]/div/a[2]')\n",
    "adelante.click()"
   ]
  },
  {
   "cell_type": "code",
   "execution_count": null,
   "metadata": {},
   "outputs": [],
   "source": [
    "split"
   ]
  },
  {
   "cell_type": "code",
   "execution_count": null,
   "metadata": {},
   "outputs": [
    {
     "data": {
      "text/plain": [
       "list"
      ]
     },
     "execution_count": 37,
     "metadata": {},
     "output_type": "execute_result"
    }
   ],
   "source": [
    "puntuacion= driver.find_elements(by=By.TAG_NAME, value='svg')\n",
    "type(puntuacion)"
   ]
  },
  {
   "cell_type": "code",
   "execution_count": 4,
   "metadata": {},
   "outputs": [
    {
     "ename": "TimeoutException",
     "evalue": "Message: \nStacktrace:\nBacktrace:\n\tOrdinal0 [0x003BACD3+2075859]\n\tOrdinal0 [0x0034EE61+1633889]\n\tOrdinal0 [0x0024B7BD+571325]\n\tOrdinal0 [0x0027AC2F+764975]\n\tOrdinal0 [0x0027AE1B+765467]\n\tOrdinal0 [0x002AD0F2+970994]\n\tOrdinal0 [0x00297364+881508]\n\tOrdinal0 [0x002AB56A+963946]\n\tOrdinal0 [0x00297136+880950]\n\tOrdinal0 [0x0026FEFD+720637]\n\tOrdinal0 [0x00270F3F+724799]\n\tGetHandleVerifier [0x0066EED2+2769538]\n\tGetHandleVerifier [0x00660D95+2711877]\n\tGetHandleVerifier [0x0044A03A+521194]\n\tGetHandleVerifier [0x00448DA0+516432]\n\tOrdinal0 [0x0035682C+1665068]\n\tOrdinal0 [0x0035B128+1683752]\n\tOrdinal0 [0x0035B215+1683989]\n\tOrdinal0 [0x00366484+1729668]\n\tBaseThreadInitThunk [0x765BFEF9+25]\n\tRtlGetAppContainerNamedObjectPath [0x77B17BBE+286]\n\tRtlGetAppContainerNamedObjectPath [0x77B17B8E+238]\n",
     "output_type": "error",
     "traceback": [
      "\u001b[1;31m---------------------------------------------------------------------------\u001b[0m",
      "\u001b[1;31mTimeoutException\u001b[0m                          Traceback (most recent call last)",
      "\u001b[1;32m~\\AppData\\Local\\Temp\\ipykernel_16612\\1394945748.py\u001b[0m in \u001b[0;36m<module>\u001b[1;34m\u001b[0m\n\u001b[0;32m     11\u001b[0m     \u001b[1;32mtry\u001b[0m\u001b[1;33m:\u001b[0m\u001b[1;33m\u001b[0m\u001b[1;33m\u001b[0m\u001b[0m\n\u001b[1;32m---> 12\u001b[1;33m         \u001b[0melement\u001b[0m \u001b[1;33m=\u001b[0m \u001b[0mWebDriverWait\u001b[0m\u001b[1;33m(\u001b[0m\u001b[0mdriver\u001b[0m\u001b[1;33m,\u001b[0m \u001b[1;36m5\u001b[0m\u001b[1;33m)\u001b[0m\u001b[1;33m.\u001b[0m\u001b[0muntil\u001b[0m\u001b[1;33m(\u001b[0m\u001b[0mEC\u001b[0m\u001b[1;33m.\u001b[0m\u001b[0mpresence_of_element_located\u001b[0m\u001b[1;33m(\u001b[0m\u001b[1;33m(\u001b[0m\u001b[0mBy\u001b[0m\u001b[1;33m.\u001b[0m\u001b[0mXPATH\u001b[0m\u001b[1;33m,\u001b[0m \u001b[1;34m'//*[@id=\"EATERY_LIST_CONTENTS\"]/div[2]/div/a'\u001b[0m\u001b[1;33m)\u001b[0m\u001b[1;33m)\u001b[0m\u001b[1;33m)\u001b[0m\u001b[1;33m\u001b[0m\u001b[1;33m\u001b[0m\u001b[0m\n\u001b[0m\u001b[0;32m     13\u001b[0m         \u001b[0melement\u001b[0m\u001b[1;33m.\u001b[0m\u001b[0mclick\u001b[0m\u001b[1;33m(\u001b[0m\u001b[1;33m)\u001b[0m\u001b[1;33m\u001b[0m\u001b[1;33m\u001b[0m\u001b[0m\n",
      "\u001b[1;32mc:\\Users\\Gabriel Castillo\\AppData\\Local\\Programs\\Python\\Python37\\lib\\site-packages\\selenium\\webdriver\\support\\wait.py\u001b[0m in \u001b[0;36muntil\u001b[1;34m(self, method, message)\u001b[0m\n\u001b[0;32m     89\u001b[0m                 \u001b[1;32mbreak\u001b[0m\u001b[1;33m\u001b[0m\u001b[1;33m\u001b[0m\u001b[0m\n\u001b[1;32m---> 90\u001b[1;33m         \u001b[1;32mraise\u001b[0m \u001b[0mTimeoutException\u001b[0m\u001b[1;33m(\u001b[0m\u001b[0mmessage\u001b[0m\u001b[1;33m,\u001b[0m \u001b[0mscreen\u001b[0m\u001b[1;33m,\u001b[0m \u001b[0mstacktrace\u001b[0m\u001b[1;33m)\u001b[0m\u001b[1;33m\u001b[0m\u001b[1;33m\u001b[0m\u001b[0m\n\u001b[0m\u001b[0;32m     91\u001b[0m \u001b[1;33m\u001b[0m\u001b[0m\n",
      "\u001b[1;31mTimeoutException\u001b[0m: Message: \nStacktrace:\nBacktrace:\n\tOrdinal0 [0x003BACD3+2075859]\n\tOrdinal0 [0x0034EE61+1633889]\n\tOrdinal0 [0x0024B7BD+571325]\n\tOrdinal0 [0x0027AC2F+764975]\n\tOrdinal0 [0x0027AE1B+765467]\n\tOrdinal0 [0x002AD0F2+970994]\n\tOrdinal0 [0x00297364+881508]\n\tOrdinal0 [0x002AB56A+963946]\n\tOrdinal0 [0x00297136+880950]\n\tOrdinal0 [0x0026FEFD+720637]\n\tOrdinal0 [0x00270F3F+724799]\n\tGetHandleVerifier [0x0066EED2+2769538]\n\tGetHandleVerifier [0x00660D95+2711877]\n\tGetHandleVerifier [0x0044A03A+521194]\n\tGetHandleVerifier [0x00448DA0+516432]\n\tOrdinal0 [0x0035682C+1665068]\n\tOrdinal0 [0x0035B128+1683752]\n\tOrdinal0 [0x0035B215+1683989]\n\tOrdinal0 [0x00366484+1729668]\n\tBaseThreadInitThunk [0x765BFEF9+25]\n\tRtlGetAppContainerNamedObjectPath [0x77B17BBE+286]\n\tRtlGetAppContainerNamedObjectPath [0x77B17B8E+238]\n",
      "\nDuring handling of the above exception, another exception occurred:\n",
      "\u001b[1;31mTimeoutException\u001b[0m                          Traceback (most recent call last)",
      "\u001b[1;32m~\\AppData\\Local\\Temp\\ipykernel_16612\\1394945748.py\u001b[0m in \u001b[0;36m<module>\u001b[1;34m\u001b[0m\n\u001b[0;32m     13\u001b[0m         \u001b[0melement\u001b[0m\u001b[1;33m.\u001b[0m\u001b[0mclick\u001b[0m\u001b[1;33m(\u001b[0m\u001b[1;33m)\u001b[0m\u001b[1;33m\u001b[0m\u001b[1;33m\u001b[0m\u001b[0m\n\u001b[0;32m     14\u001b[0m     \u001b[1;32mexcept\u001b[0m\u001b[1;33m:\u001b[0m\u001b[1;33m\u001b[0m\u001b[1;33m\u001b[0m\u001b[0m\n\u001b[1;32m---> 15\u001b[1;33m         \u001b[0melement\u001b[0m \u001b[1;33m=\u001b[0m \u001b[0mWebDriverWait\u001b[0m\u001b[1;33m(\u001b[0m\u001b[0mdriver\u001b[0m\u001b[1;33m,\u001b[0m \u001b[1;36m5\u001b[0m\u001b[1;33m)\u001b[0m\u001b[1;33m.\u001b[0m\u001b[0muntil\u001b[0m\u001b[1;33m(\u001b[0m\u001b[0mEC\u001b[0m\u001b[1;33m.\u001b[0m\u001b[0mpresence_of_element_located\u001b[0m\u001b[1;33m(\u001b[0m\u001b[1;33m(\u001b[0m\u001b[0mBy\u001b[0m\u001b[1;33m.\u001b[0m\u001b[0mXPATH\u001b[0m\u001b[1;33m,\u001b[0m \u001b[1;34m'//*[@id=\"EATERY_LIST_CONTENTS\"]/div[2]/div/a[2]'\u001b[0m\u001b[1;33m)\u001b[0m\u001b[1;33m)\u001b[0m\u001b[1;33m)\u001b[0m\u001b[1;33m\u001b[0m\u001b[1;33m\u001b[0m\u001b[0m\n\u001b[0m\u001b[0;32m     16\u001b[0m         \u001b[0melement\u001b[0m\u001b[1;33m.\u001b[0m\u001b[0mclick\u001b[0m\u001b[1;33m(\u001b[0m\u001b[1;33m)\u001b[0m\u001b[1;33m\u001b[0m\u001b[1;33m\u001b[0m\u001b[0m\n",
      "\u001b[1;32mc:\\Users\\Gabriel Castillo\\AppData\\Local\\Programs\\Python\\Python37\\lib\\site-packages\\selenium\\webdriver\\support\\wait.py\u001b[0m in \u001b[0;36muntil\u001b[1;34m(self, method, message)\u001b[0m\n\u001b[0;32m     88\u001b[0m             \u001b[1;32mif\u001b[0m \u001b[0mtime\u001b[0m\u001b[1;33m.\u001b[0m\u001b[0mmonotonic\u001b[0m\u001b[1;33m(\u001b[0m\u001b[1;33m)\u001b[0m \u001b[1;33m>\u001b[0m \u001b[0mend_time\u001b[0m\u001b[1;33m:\u001b[0m\u001b[1;33m\u001b[0m\u001b[1;33m\u001b[0m\u001b[0m\n\u001b[0;32m     89\u001b[0m                 \u001b[1;32mbreak\u001b[0m\u001b[1;33m\u001b[0m\u001b[1;33m\u001b[0m\u001b[0m\n\u001b[1;32m---> 90\u001b[1;33m         \u001b[1;32mraise\u001b[0m \u001b[0mTimeoutException\u001b[0m\u001b[1;33m(\u001b[0m\u001b[0mmessage\u001b[0m\u001b[1;33m,\u001b[0m \u001b[0mscreen\u001b[0m\u001b[1;33m,\u001b[0m \u001b[0mstacktrace\u001b[0m\u001b[1;33m)\u001b[0m\u001b[1;33m\u001b[0m\u001b[1;33m\u001b[0m\u001b[0m\n\u001b[0m\u001b[0;32m     91\u001b[0m \u001b[1;33m\u001b[0m\u001b[0m\n\u001b[0;32m     92\u001b[0m     \u001b[1;32mdef\u001b[0m \u001b[0muntil_not\u001b[0m\u001b[1;33m(\u001b[0m\u001b[0mself\u001b[0m\u001b[1;33m,\u001b[0m \u001b[0mmethod\u001b[0m\u001b[1;33m,\u001b[0m \u001b[0mmessage\u001b[0m\u001b[1;33m:\u001b[0m \u001b[0mstr\u001b[0m \u001b[1;33m=\u001b[0m \u001b[1;34m\"\"\u001b[0m\u001b[1;33m)\u001b[0m\u001b[1;33m:\u001b[0m\u001b[1;33m\u001b[0m\u001b[1;33m\u001b[0m\u001b[0m\n",
      "\u001b[1;31mTimeoutException\u001b[0m: Message: \nStacktrace:\nBacktrace:\n\tOrdinal0 [0x003BACD3+2075859]\n\tOrdinal0 [0x0034EE61+1633889]\n\tOrdinal0 [0x0024B7BD+571325]\n\tOrdinal0 [0x0027AC2F+764975]\n\tOrdinal0 [0x0027AE1B+765467]\n\tOrdinal0 [0x002AD0F2+970994]\n\tOrdinal0 [0x00297364+881508]\n\tOrdinal0 [0x002AB56A+963946]\n\tOrdinal0 [0x00297136+880950]\n\tOrdinal0 [0x0026FEFD+720637]\n\tOrdinal0 [0x00270F3F+724799]\n\tGetHandleVerifier [0x0066EED2+2769538]\n\tGetHandleVerifier [0x00660D95+2711877]\n\tGetHandleVerifier [0x0044A03A+521194]\n\tGetHandleVerifier [0x00448DA0+516432]\n\tOrdinal0 [0x0035682C+1665068]\n\tOrdinal0 [0x0035B128+1683752]\n\tOrdinal0 [0x0035B215+1683989]\n\tOrdinal0 [0x00366484+1729668]\n\tBaseThreadInitThunk [0x765BFEF9+25]\n\tRtlGetAppContainerNamedObjectPath [0x77B17BBE+286]\n\tRtlGetAppContainerNamedObjectPath [0x77B17B8E+238]\n"
     ]
    }
   ],
   "source": [
    "from selenium.webdriver.support.ui import WebDriverWait\n",
    "from selenium.webdriver.support import expected_conditions as EC\n",
    "service = Service(ChromeDriverManager().install())\n",
    "driver = webdriver.Chrome(service=service)\n",
    "URL = 'https://www.tripadvisor.es/Restaurants-g187514-Madrid.html'\n",
    "driver.get(URL)\n",
    "time.sleep(5)\n",
    "elements_by_ID = driver.find_element(By.ID, 'onetrust-accept-btn-handler')\n",
    "elements_by_ID.click()\n",
    "while True: \n",
    "    element = WebDriverWait(driver, 5).until(EC.presence_of_element_located((By.LINK_TEXT, \"Siguiente\")))\n",
    "    element.click()\n",
    "    \n"
   ]
  },
  {
   "cell_type": "code",
   "execution_count": null,
   "metadata": {},
   "outputs": [],
   "source": [
    "//*[@id=\"EATERY_LIST_CONTENTS\"]/div[2]/div/a[2]\n",
    "//*[@id=\"EATERY_LIST_CONTENTS\"]/div[2]/div/a\n",
    "//*[@id=\"EATERY_LIST_CONTENTS\"]/div[2]/div/a[2]\n",
    "//*[@id=\"EATERY_LIST_CONTENTS\"]/div[2]/div/a[2]"
   ]
  },
  {
   "cell_type": "code",
   "execution_count": 6,
   "metadata": {},
   "outputs": [
    {
     "name": "stdout",
     "output_type": "stream",
     "text": [
      "{'Nombre Restaurante': ['Sakale', '1. Empanadas Malvón', '2. Los Montes de Galicia', '3. Pastamore', '4. Kathmandu Tandoori House', '5. Entre Santos Madrid', 'La Carlota', '6. La Vaca Argentina', '7. Peppe Fusco The Italian', '8. Sibuya Urban Sushi Bar Madrid C/ibiza', '9. Ástor', '10. Brunchit Malasaña', 'Indian Aroma', '11. Zenith Brunch & Cocktails', '12. Grama Lounge', '13. Oven Mozzarella', '14. Restaurante La Gaditana', '15. Pituca Madrid', 'Punch Room - The Madrid Edition', '16. Empanadas Malvón', '17. Sakale', '18. Trattoria Pulcinella', '19. Lettera Trattoria moderna', '20. Sibuya Urban Sushi Bar Madrid C/Orense', 'La Gamella', '21. Pizzart Villa Luchana', '22. Steakburger Fuencarral', '23. La Descarada', '24. Oven Mozzarella Bernabeu', '25. GastroVía 61', 'Tequeño Mucho', '26. Steakburger Gran Vía 16', \"27. Maximo's\", '28. Arpit', '29. Mu! El Placer De La Carne', '30. La Bistroteca', 'Petit Appetit'], 'Ranking': ['2970 opiniones', 'Abierto ahora', 'Mexicana, Japonesa', '€€ - €€€', '117 opiniones', 'Abierto ahora', 'Argentina, Latina', '€€ - €€€', '10.312 opiniones', 'Abierto ahora', 'Española, Internacional', '€€ - €€€', '557 opiniones', 'Abierto ahora', 'Italiana, Pizza', '€€ - €€€', '2518 opiniones', 'Cierra en 30 minutos', 'India, Asiática', '€€ - €€€', '1107 opiniones', 'Cerrado ahora', 'Mediterránea, Española', '€€ - €€€', '206 opiniones', 'Abierto ahora', 'Fusión, Japonesa', '€€ - €€€', '633 opiniones', 'Cierra en 30 minutos', 'Restaurante de carne, Barbacoa', '€€ - €€€', '373 opiniones', 'Abierto ahora', 'Italiana, Mediterránea', '€€ - €€€', '546 opiniones', 'Cierra en 30 minutos', 'Japonesa, Sushi', '€€ - €€€', '1680 opiniones', 'Cerrado hoy', 'Internacional, Mediterránea', '€€ - €€€', '193 opiniones', 'Cierra en 30 minutos', 'Café, Mediterránea', '€€ - €€€', '806 opiniones', 'Cierra en 30 minutos', 'India, Asiática', '€€ - €€€', '2909 opiniones', 'Abierto ahora', 'Café, Europea', '€€ - €€€', '3385 opiniones', 'Abierto ahora', 'Latina, Bar', '€€ - €€€', '216 opiniones', 'Abierto ahora', 'Italiana, Pizza', '1467 opiniones', 'Abierto ahora', 'Mediterránea, Española', '€€ - €€€', '785 opiniones', 'Abierto ahora', 'Peruana, Latina', '€€ - €€€', '4 opiniones', 'Cerrado ahora', 'Bar, Pub', '284 opiniones', 'Abierto ahora', 'Argentina', '€€ - €€€', '2970 opiniones', 'Abierto ahora', 'Mexicana, Japonesa', '€€ - €€€', '2285 opiniones', 'Cierra en 30 minutos', 'Italiana, Napolitana', '€€ - €€€', '1363 opiniones', 'Cierra en 30 minutos', 'Italiana, Mediterránea', '€€ - €€€', '478 opiniones', 'Cierra en 30 minutos', 'Japonesa, Sushi', '€€ - €€€', '326 opiniones', 'Cierra en 30 minutos', 'Mediterránea, Europea', '€€ - €€€', '296 opiniones', 'Abierto ahora', 'Italiana, Pizza', '€€ - €€€', '3014 opiniones', 'Abierto ahora', 'Americana, Barbacoa', '€€ - €€€', '291 opiniones', 'Abierto ahora', 'Mediterránea, Europea', '€€ - €€€', '186 opiniones', 'Abierto ahora', 'Italiana, Pizza', '€€ - €€€', '1741 opiniones', 'Abierto ahora', 'Mediterránea, Europea', '€€ - €€€', 'Sé el primero en ofrecer tu opinión sobre este restaurante', 'Abierto ahora', 'Americana, Latina', '4053 opiniones', 'Abierto ahora', 'Americana, Restaurante de carne', '€€ - €€€', '187 opiniones', 'Cierra en 30 minutos', 'Sushi, Asiática', '€€ - €€€', '576 opiniones', 'Cierra en 30 minutos', 'India', '€', '2904 opiniones', 'Abierto ahora', 'Restaurante de carne, Latina', '€€ - €€€', '912 opiniones', 'Cierra en 30 minutos', 'Fusión', '€€ - €€€', '38 opiniones', 'Mediterránea, Italiana', '€€ - €€€']}\n"
     ]
    }
   ],
   "source": [
    "# titulo = driver.find_elements(by=By.CSS_SELECTOR, value=\"div.RfBGI\")   #esta variable ya funciona y ya recoge todos los restaurantes \n",
    "# puntuacion= driver.find_elements(by=By.ID, value='aria-label')\n",
    "# estilo_comida_plata_reviews = driver.find_elements(by=By.CLASS_NAME, value='ABgbd') #esta variable ya funciona y ya recoge las descripciones\n",
    "# # next = driver.find_element(By.XPATH,'//*[@id=\"EATERY_LIST_CONTENTS\"]/div[3]/div/div/a[1]') #esta variable ya funciona y ya pasa a la sifguiente pagina\n",
    "\n",
    "\n",
    "\"\"\"\n",
    "El bucle deberia de:\n",
    "1. Pillar nombre (ya esta)\n",
    "2. Puntuacion \n",
    "3. Pillar precio, #de reviews, tipo de comida y $$ (ya esta )\n",
    "4. Avanzar hacia la siguiente y hacer lo mismo \n",
    "\n",
    "El resultado del bucle deberia de ser: \n",
    "Un diccionario que se pueda convertir en un dataframe con nombre:valores \n",
    "\"\"\"\n",
    "\n",
    "pages = np.arange(1, 2)\n",
    "count = 1 \n",
    "lista_restaurantes = []\n",
    "\n",
    "\n",
    "service = Service(ChromeDriverManager().install())\n",
    "driver = webdriver.Chrome(service=service)\n",
    "URL = 'https://www.tripadvisor.es/Restaurants-g187514-Madrid.html'\n",
    "driver.get(URL)\n",
    "time.sleep(5)\n",
    "elements_by_ID = driver.find_element(By.ID, 'onetrust-accept-btn-handler')\n",
    "elements_by_ID.click()\n",
    "\n",
    "# for restaurante in URL:\n",
    "#     time.sleep(2)\n",
    "#     titulo = driver.find_elements(by=By.CSS_SELECTOR, value=\"div.RfBGI\")\n",
    "#     nombres=[]\n",
    "#     for nombre in titulo:\n",
    "#         nombres.append(nombre.text)\n",
    "#         # puntuacion\n",
    "\n",
    "#     estilo_comida_plata_reviews = driver.find_elements(by=By.CLASS_NAME, value='ABgbd')\n",
    "#     estilo=[]\n",
    "#     for tipo in estilo_comida_plata_reviews :\n",
    "#         estilo.append(tipo.text)\n",
    "\n",
    "#     # estilo\n",
    "#     # n= 1\n",
    "#     # fragmentado=[estilo[i:i + n] for i in range(0, len(estilo), n)]\n",
    "#     # opiniones=[estilo[i:i + n] for i in range(0, len(estilo), n)]\n",
    "#     # estado = [estilo[i:i + n] for i in range(0, len(estilo), n)]\n",
    "#     # tipo_de_comida = [estilo[i:i + n] for i in range(0, len(estilo), n)]\n",
    "#     # precio = [estilo[i:i + n] for i in range(0, len(estilo), n)]\n",
    "\n",
    "#     data = {\"Nombre Restaurante\": nombres,\n",
    "#                 # \"Puntuacion\": puntuacion, \n",
    "#                 \"Ranking\": estilo\n",
    "#                 # \"Opiniones\": opiniones\n",
    "#                 # \"Estado\": estado,\n",
    "#                 # \"Tipo de comida\": tipo_de_comida,\n",
    "#                 # \"Precio\": precio\n",
    "#                 }\n",
    "\n",
    "#     lista_restaurantes.append(data)\n",
    "\n",
    "    # pasamos a la siguiente pagina \n",
    "    for page in list_pages[:3]:\n",
    "        service = Service(ChromeDriverManager().install())\n",
    "        driver = webdriver.Chrome(service=service)\n",
    "        driver.get(page)\n",
    "        time.sleep(5)\n",
    "        elements_by_ID = driver.find_element(By.XPATH, '//*[@id=\"onetrust-accept-btn-handler\"]')\n",
    "        elements_by_ID.click()\n",
    "        time.sleep(2)\n",
    "        titulo = driver.find_elements(by=By.CSS_SELECTOR, value=\"div.RfBGI\")\n",
    "        nombres=[]\n",
    "        for nombre in titulo:\n",
    "            nombres.append(nombre.text)\n",
    "            # puntuacion\n",
    "\n",
    "        estilo_comida_plata_reviews = driver.find_elements(by=By.CLASS_NAME, value='ABgbd')\n",
    "        estilo=[]\n",
    "        for tipo in estilo_comida_plata_reviews :\n",
    "            estilo.append(tipo.text)\n",
    "\n",
    "        # estilo\n",
    "        # n= 1\n",
    "        # fragmentado=[estilo[i:i + n] for i in range(0, len(estilo), n)]\n",
    "        # opiniones=[estilo[i:i + n] for i in range(0, len(estilo), n)]\n",
    "        # estado = [estilo[i:i + n] for i in range(0, len(estilo), n)]\n",
    "        # tipo_de_comida = [estilo[i:i + n] for i in range(0, len(estilo), n)]\n",
    "        # precio = [estilo[i:i + n] for i in range(0, len(estilo), n)]\n",
    "\n",
    "        data = {\"Nombre Restaurante\": nombres,\n",
    "                    # \"Puntuacion\": puntuacion, \n",
    "                    \"Ranking\": estilo\n",
    "                    # \"Opiniones\": opiniones\n",
    "                    # \"Estado\": estado,\n",
    "                    # \"Tipo de comida\": tipo_de_comida,\n",
    "                    # \"Precio\": precio\n",
    "                    }\n",
    "\n",
    "    lista_restaurantes.append(data)\n",
    "            \n",
    "\n",
    "    #     count += 1\n",
    "\n",
    "    print(data)\n",
    "\n"
   ]
  },
  {
   "cell_type": "code",
   "execution_count": 3,
   "metadata": {},
   "outputs": [
    {
     "ename": "MaxRetryError",
     "evalue": "HTTPConnectionPool(host='localhost', port=63639): Max retries exceeded with url: /session/75d2836ee1771e5fbc72e9bf6631b98a/elements (Caused by NewConnectionError('<urllib3.connection.HTTPConnection object at 0x000001A1A4E6D4C8>: Failed to establish a new connection: [WinError 10061] No se puede establecer una conexión ya que el equipo de destino denegó expresamente dicha conexión'))",
     "output_type": "error",
     "traceback": [
      "\u001b[1;31m---------------------------------------------------------------------------\u001b[0m",
      "\u001b[1;31mConnectionRefusedError\u001b[0m                    Traceback (most recent call last)",
      "\u001b[1;32mc:\\Users\\Gabriel Castillo\\AppData\\Local\\Programs\\Python\\Python37\\lib\\site-packages\\urllib3\\connection.py\u001b[0m in \u001b[0;36m_new_conn\u001b[1;34m(self)\u001b[0m\n\u001b[0;32m    174\u001b[0m             conn = connection.create_connection(\n\u001b[1;32m--> 175\u001b[1;33m                 \u001b[1;33m(\u001b[0m\u001b[0mself\u001b[0m\u001b[1;33m.\u001b[0m\u001b[0m_dns_host\u001b[0m\u001b[1;33m,\u001b[0m \u001b[0mself\u001b[0m\u001b[1;33m.\u001b[0m\u001b[0mport\u001b[0m\u001b[1;33m)\u001b[0m\u001b[1;33m,\u001b[0m \u001b[0mself\u001b[0m\u001b[1;33m.\u001b[0m\u001b[0mtimeout\u001b[0m\u001b[1;33m,\u001b[0m \u001b[1;33m**\u001b[0m\u001b[0mextra_kw\u001b[0m\u001b[1;33m\u001b[0m\u001b[1;33m\u001b[0m\u001b[0m\n\u001b[0m\u001b[0;32m    176\u001b[0m             )\n",
      "\u001b[1;32mc:\\Users\\Gabriel Castillo\\AppData\\Local\\Programs\\Python\\Python37\\lib\\site-packages\\urllib3\\util\\connection.py\u001b[0m in \u001b[0;36mcreate_connection\u001b[1;34m(address, timeout, source_address, socket_options)\u001b[0m\n\u001b[0;32m     94\u001b[0m     \u001b[1;32mif\u001b[0m \u001b[0merr\u001b[0m \u001b[1;32mis\u001b[0m \u001b[1;32mnot\u001b[0m \u001b[1;32mNone\u001b[0m\u001b[1;33m:\u001b[0m\u001b[1;33m\u001b[0m\u001b[1;33m\u001b[0m\u001b[0m\n\u001b[1;32m---> 95\u001b[1;33m         \u001b[1;32mraise\u001b[0m \u001b[0merr\u001b[0m\u001b[1;33m\u001b[0m\u001b[1;33m\u001b[0m\u001b[0m\n\u001b[0m\u001b[0;32m     96\u001b[0m \u001b[1;33m\u001b[0m\u001b[0m\n",
      "\u001b[1;32mc:\\Users\\Gabriel Castillo\\AppData\\Local\\Programs\\Python\\Python37\\lib\\site-packages\\urllib3\\util\\connection.py\u001b[0m in \u001b[0;36mcreate_connection\u001b[1;34m(address, timeout, source_address, socket_options)\u001b[0m\n\u001b[0;32m     84\u001b[0m                 \u001b[0msock\u001b[0m\u001b[1;33m.\u001b[0m\u001b[0mbind\u001b[0m\u001b[1;33m(\u001b[0m\u001b[0msource_address\u001b[0m\u001b[1;33m)\u001b[0m\u001b[1;33m\u001b[0m\u001b[1;33m\u001b[0m\u001b[0m\n\u001b[1;32m---> 85\u001b[1;33m             \u001b[0msock\u001b[0m\u001b[1;33m.\u001b[0m\u001b[0mconnect\u001b[0m\u001b[1;33m(\u001b[0m\u001b[0msa\u001b[0m\u001b[1;33m)\u001b[0m\u001b[1;33m\u001b[0m\u001b[1;33m\u001b[0m\u001b[0m\n\u001b[0m\u001b[0;32m     86\u001b[0m             \u001b[1;32mreturn\u001b[0m \u001b[0msock\u001b[0m\u001b[1;33m\u001b[0m\u001b[1;33m\u001b[0m\u001b[0m\n",
      "\u001b[1;31mConnectionRefusedError\u001b[0m: [WinError 10061] No se puede establecer una conexión ya que el equipo de destino denegó expresamente dicha conexión",
      "\nDuring handling of the above exception, another exception occurred:\n",
      "\u001b[1;31mNewConnectionError\u001b[0m                        Traceback (most recent call last)",
      "\u001b[1;32mc:\\Users\\Gabriel Castillo\\AppData\\Local\\Programs\\Python\\Python37\\lib\\site-packages\\urllib3\\connectionpool.py\u001b[0m in \u001b[0;36murlopen\u001b[1;34m(self, method, url, body, headers, retries, redirect, assert_same_host, timeout, pool_timeout, release_conn, chunked, body_pos, **response_kw)\u001b[0m\n\u001b[0;32m    709\u001b[0m                 \u001b[0mheaders\u001b[0m\u001b[1;33m=\u001b[0m\u001b[0mheaders\u001b[0m\u001b[1;33m,\u001b[0m\u001b[1;33m\u001b[0m\u001b[1;33m\u001b[0m\u001b[0m\n\u001b[1;32m--> 710\u001b[1;33m                 \u001b[0mchunked\u001b[0m\u001b[1;33m=\u001b[0m\u001b[0mchunked\u001b[0m\u001b[1;33m,\u001b[0m\u001b[1;33m\u001b[0m\u001b[1;33m\u001b[0m\u001b[0m\n\u001b[0m\u001b[0;32m    711\u001b[0m             )\n",
      "\u001b[1;32mc:\\Users\\Gabriel Castillo\\AppData\\Local\\Programs\\Python\\Python37\\lib\\site-packages\\urllib3\\connectionpool.py\u001b[0m in \u001b[0;36m_make_request\u001b[1;34m(self, conn, method, url, timeout, chunked, **httplib_request_kw)\u001b[0m\n\u001b[0;32m    397\u001b[0m             \u001b[1;32melse\u001b[0m\u001b[1;33m:\u001b[0m\u001b[1;33m\u001b[0m\u001b[1;33m\u001b[0m\u001b[0m\n\u001b[1;32m--> 398\u001b[1;33m                 \u001b[0mconn\u001b[0m\u001b[1;33m.\u001b[0m\u001b[0mrequest\u001b[0m\u001b[1;33m(\u001b[0m\u001b[0mmethod\u001b[0m\u001b[1;33m,\u001b[0m \u001b[0murl\u001b[0m\u001b[1;33m,\u001b[0m \u001b[1;33m**\u001b[0m\u001b[0mhttplib_request_kw\u001b[0m\u001b[1;33m)\u001b[0m\u001b[1;33m\u001b[0m\u001b[1;33m\u001b[0m\u001b[0m\n\u001b[0m\u001b[0;32m    399\u001b[0m \u001b[1;33m\u001b[0m\u001b[0m\n",
      "\u001b[1;32mc:\\Users\\Gabriel Castillo\\AppData\\Local\\Programs\\Python\\Python37\\lib\\site-packages\\urllib3\\connection.py\u001b[0m in \u001b[0;36mrequest\u001b[1;34m(self, method, url, body, headers)\u001b[0m\n\u001b[0;32m    238\u001b[0m             \u001b[0mheaders\u001b[0m\u001b[1;33m[\u001b[0m\u001b[1;34m\"User-Agent\"\u001b[0m\u001b[1;33m]\u001b[0m \u001b[1;33m=\u001b[0m \u001b[0m_get_default_user_agent\u001b[0m\u001b[1;33m(\u001b[0m\u001b[1;33m)\u001b[0m\u001b[1;33m\u001b[0m\u001b[1;33m\u001b[0m\u001b[0m\n\u001b[1;32m--> 239\u001b[1;33m         \u001b[0msuper\u001b[0m\u001b[1;33m(\u001b[0m\u001b[0mHTTPConnection\u001b[0m\u001b[1;33m,\u001b[0m \u001b[0mself\u001b[0m\u001b[1;33m)\u001b[0m\u001b[1;33m.\u001b[0m\u001b[0mrequest\u001b[0m\u001b[1;33m(\u001b[0m\u001b[0mmethod\u001b[0m\u001b[1;33m,\u001b[0m \u001b[0murl\u001b[0m\u001b[1;33m,\u001b[0m \u001b[0mbody\u001b[0m\u001b[1;33m=\u001b[0m\u001b[0mbody\u001b[0m\u001b[1;33m,\u001b[0m \u001b[0mheaders\u001b[0m\u001b[1;33m=\u001b[0m\u001b[0mheaders\u001b[0m\u001b[1;33m)\u001b[0m\u001b[1;33m\u001b[0m\u001b[1;33m\u001b[0m\u001b[0m\n\u001b[0m\u001b[0;32m    240\u001b[0m \u001b[1;33m\u001b[0m\u001b[0m\n",
      "\u001b[1;32mc:\\Users\\Gabriel Castillo\\AppData\\Local\\Programs\\Python\\Python37\\lib\\http\\client.py\u001b[0m in \u001b[0;36mrequest\u001b[1;34m(self, method, url, body, headers, encode_chunked)\u001b[0m\n\u001b[0;32m   1243\u001b[0m         \u001b[1;34m\"\"\"Send a complete request to the server.\"\"\"\u001b[0m\u001b[1;33m\u001b[0m\u001b[1;33m\u001b[0m\u001b[0m\n\u001b[1;32m-> 1244\u001b[1;33m         \u001b[0mself\u001b[0m\u001b[1;33m.\u001b[0m\u001b[0m_send_request\u001b[0m\u001b[1;33m(\u001b[0m\u001b[0mmethod\u001b[0m\u001b[1;33m,\u001b[0m \u001b[0murl\u001b[0m\u001b[1;33m,\u001b[0m \u001b[0mbody\u001b[0m\u001b[1;33m,\u001b[0m \u001b[0mheaders\u001b[0m\u001b[1;33m,\u001b[0m \u001b[0mencode_chunked\u001b[0m\u001b[1;33m)\u001b[0m\u001b[1;33m\u001b[0m\u001b[1;33m\u001b[0m\u001b[0m\n\u001b[0m\u001b[0;32m   1245\u001b[0m \u001b[1;33m\u001b[0m\u001b[0m\n",
      "\u001b[1;32mc:\\Users\\Gabriel Castillo\\AppData\\Local\\Programs\\Python\\Python37\\lib\\http\\client.py\u001b[0m in \u001b[0;36m_send_request\u001b[1;34m(self, method, url, body, headers, encode_chunked)\u001b[0m\n\u001b[0;32m   1289\u001b[0m             \u001b[0mbody\u001b[0m \u001b[1;33m=\u001b[0m \u001b[0m_encode\u001b[0m\u001b[1;33m(\u001b[0m\u001b[0mbody\u001b[0m\u001b[1;33m,\u001b[0m \u001b[1;34m'body'\u001b[0m\u001b[1;33m)\u001b[0m\u001b[1;33m\u001b[0m\u001b[1;33m\u001b[0m\u001b[0m\n\u001b[1;32m-> 1290\u001b[1;33m         \u001b[0mself\u001b[0m\u001b[1;33m.\u001b[0m\u001b[0mendheaders\u001b[0m\u001b[1;33m(\u001b[0m\u001b[0mbody\u001b[0m\u001b[1;33m,\u001b[0m \u001b[0mencode_chunked\u001b[0m\u001b[1;33m=\u001b[0m\u001b[0mencode_chunked\u001b[0m\u001b[1;33m)\u001b[0m\u001b[1;33m\u001b[0m\u001b[1;33m\u001b[0m\u001b[0m\n\u001b[0m\u001b[0;32m   1291\u001b[0m \u001b[1;33m\u001b[0m\u001b[0m\n",
      "\u001b[1;32mc:\\Users\\Gabriel Castillo\\AppData\\Local\\Programs\\Python\\Python37\\lib\\http\\client.py\u001b[0m in \u001b[0;36mendheaders\u001b[1;34m(self, message_body, encode_chunked)\u001b[0m\n\u001b[0;32m   1238\u001b[0m             \u001b[1;32mraise\u001b[0m \u001b[0mCannotSendHeader\u001b[0m\u001b[1;33m(\u001b[0m\u001b[1;33m)\u001b[0m\u001b[1;33m\u001b[0m\u001b[1;33m\u001b[0m\u001b[0m\n\u001b[1;32m-> 1239\u001b[1;33m         \u001b[0mself\u001b[0m\u001b[1;33m.\u001b[0m\u001b[0m_send_output\u001b[0m\u001b[1;33m(\u001b[0m\u001b[0mmessage_body\u001b[0m\u001b[1;33m,\u001b[0m \u001b[0mencode_chunked\u001b[0m\u001b[1;33m=\u001b[0m\u001b[0mencode_chunked\u001b[0m\u001b[1;33m)\u001b[0m\u001b[1;33m\u001b[0m\u001b[1;33m\u001b[0m\u001b[0m\n\u001b[0m\u001b[0;32m   1240\u001b[0m \u001b[1;33m\u001b[0m\u001b[0m\n",
      "\u001b[1;32mc:\\Users\\Gabriel Castillo\\AppData\\Local\\Programs\\Python\\Python37\\lib\\http\\client.py\u001b[0m in \u001b[0;36m_send_output\u001b[1;34m(self, message_body, encode_chunked)\u001b[0m\n\u001b[0;32m   1025\u001b[0m         \u001b[1;32mdel\u001b[0m \u001b[0mself\u001b[0m\u001b[1;33m.\u001b[0m\u001b[0m_buffer\u001b[0m\u001b[1;33m[\u001b[0m\u001b[1;33m:\u001b[0m\u001b[1;33m]\u001b[0m\u001b[1;33m\u001b[0m\u001b[1;33m\u001b[0m\u001b[0m\n\u001b[1;32m-> 1026\u001b[1;33m         \u001b[0mself\u001b[0m\u001b[1;33m.\u001b[0m\u001b[0msend\u001b[0m\u001b[1;33m(\u001b[0m\u001b[0mmsg\u001b[0m\u001b[1;33m)\u001b[0m\u001b[1;33m\u001b[0m\u001b[1;33m\u001b[0m\u001b[0m\n\u001b[0m\u001b[0;32m   1027\u001b[0m \u001b[1;33m\u001b[0m\u001b[0m\n",
      "\u001b[1;32mc:\\Users\\Gabriel Castillo\\AppData\\Local\\Programs\\Python\\Python37\\lib\\http\\client.py\u001b[0m in \u001b[0;36msend\u001b[1;34m(self, data)\u001b[0m\n\u001b[0;32m    965\u001b[0m             \u001b[1;32mif\u001b[0m \u001b[0mself\u001b[0m\u001b[1;33m.\u001b[0m\u001b[0mauto_open\u001b[0m\u001b[1;33m:\u001b[0m\u001b[1;33m\u001b[0m\u001b[1;33m\u001b[0m\u001b[0m\n\u001b[1;32m--> 966\u001b[1;33m                 \u001b[0mself\u001b[0m\u001b[1;33m.\u001b[0m\u001b[0mconnect\u001b[0m\u001b[1;33m(\u001b[0m\u001b[1;33m)\u001b[0m\u001b[1;33m\u001b[0m\u001b[1;33m\u001b[0m\u001b[0m\n\u001b[0m\u001b[0;32m    967\u001b[0m             \u001b[1;32melse\u001b[0m\u001b[1;33m:\u001b[0m\u001b[1;33m\u001b[0m\u001b[1;33m\u001b[0m\u001b[0m\n",
      "\u001b[1;32mc:\\Users\\Gabriel Castillo\\AppData\\Local\\Programs\\Python\\Python37\\lib\\site-packages\\urllib3\\connection.py\u001b[0m in \u001b[0;36mconnect\u001b[1;34m(self)\u001b[0m\n\u001b[0;32m    204\u001b[0m     \u001b[1;32mdef\u001b[0m \u001b[0mconnect\u001b[0m\u001b[1;33m(\u001b[0m\u001b[0mself\u001b[0m\u001b[1;33m)\u001b[0m\u001b[1;33m:\u001b[0m\u001b[1;33m\u001b[0m\u001b[1;33m\u001b[0m\u001b[0m\n\u001b[1;32m--> 205\u001b[1;33m         \u001b[0mconn\u001b[0m \u001b[1;33m=\u001b[0m \u001b[0mself\u001b[0m\u001b[1;33m.\u001b[0m\u001b[0m_new_conn\u001b[0m\u001b[1;33m(\u001b[0m\u001b[1;33m)\u001b[0m\u001b[1;33m\u001b[0m\u001b[1;33m\u001b[0m\u001b[0m\n\u001b[0m\u001b[0;32m    206\u001b[0m         \u001b[0mself\u001b[0m\u001b[1;33m.\u001b[0m\u001b[0m_prepare_conn\u001b[0m\u001b[1;33m(\u001b[0m\u001b[0mconn\u001b[0m\u001b[1;33m)\u001b[0m\u001b[1;33m\u001b[0m\u001b[1;33m\u001b[0m\u001b[0m\n",
      "\u001b[1;32mc:\\Users\\Gabriel Castillo\\AppData\\Local\\Programs\\Python\\Python37\\lib\\site-packages\\urllib3\\connection.py\u001b[0m in \u001b[0;36m_new_conn\u001b[1;34m(self)\u001b[0m\n\u001b[0;32m    186\u001b[0m             raise NewConnectionError(\n\u001b[1;32m--> 187\u001b[1;33m                 \u001b[0mself\u001b[0m\u001b[1;33m,\u001b[0m \u001b[1;34m\"Failed to establish a new connection: %s\"\u001b[0m \u001b[1;33m%\u001b[0m \u001b[0me\u001b[0m\u001b[1;33m\u001b[0m\u001b[1;33m\u001b[0m\u001b[0m\n\u001b[0m\u001b[0;32m    188\u001b[0m             )\n",
      "\u001b[1;31mNewConnectionError\u001b[0m: <urllib3.connection.HTTPConnection object at 0x000001A1A4E6D4C8>: Failed to establish a new connection: [WinError 10061] No se puede establecer una conexión ya que el equipo de destino denegó expresamente dicha conexión",
      "\nDuring handling of the above exception, another exception occurred:\n",
      "\u001b[1;31mMaxRetryError\u001b[0m                             Traceback (most recent call last)",
      "\u001b[1;32m~\\AppData\\Local\\Temp\\ipykernel_6628\\1239219629.py\u001b[0m in \u001b[0;36m<module>\u001b[1;34m\u001b[0m\n\u001b[0;32m     13\u001b[0m     \u001b[0mdriver\u001b[0m\u001b[1;33m.\u001b[0m\u001b[0mquit\u001b[0m\u001b[1;33m(\u001b[0m\u001b[1;33m)\u001b[0m\u001b[1;33m\u001b[0m\u001b[1;33m\u001b[0m\u001b[0m\n\u001b[0;32m     14\u001b[0m     \u001b[0mtime\u001b[0m\u001b[1;33m.\u001b[0m\u001b[0msleep\u001b[0m\u001b[1;33m(\u001b[0m\u001b[1;36m5\u001b[0m\u001b[1;33m)\u001b[0m\u001b[1;33m\u001b[0m\u001b[1;33m\u001b[0m\u001b[0m\n\u001b[1;32m---> 15\u001b[1;33m     \u001b[0mtitulo\u001b[0m \u001b[1;33m=\u001b[0m \u001b[0mdriver\u001b[0m\u001b[1;33m.\u001b[0m\u001b[0mfind_elements\u001b[0m\u001b[1;33m(\u001b[0m\u001b[0mby\u001b[0m\u001b[1;33m=\u001b[0m\u001b[0mBy\u001b[0m\u001b[1;33m.\u001b[0m\u001b[0mCSS_SELECTOR\u001b[0m\u001b[1;33m,\u001b[0m \u001b[0mvalue\u001b[0m\u001b[1;33m=\u001b[0m\u001b[1;34m\"div.RfBGI\"\u001b[0m\u001b[1;33m)\u001b[0m\u001b[1;33m\u001b[0m\u001b[1;33m\u001b[0m\u001b[0m\n\u001b[0m\u001b[0;32m     16\u001b[0m     \u001b[0mnombres\u001b[0m\u001b[1;33m=\u001b[0m\u001b[1;33m[\u001b[0m\u001b[1;33m]\u001b[0m\u001b[1;33m\u001b[0m\u001b[1;33m\u001b[0m\u001b[0m\n\u001b[0;32m     17\u001b[0m     \u001b[1;32mfor\u001b[0m \u001b[0mnombre\u001b[0m \u001b[1;32min\u001b[0m \u001b[0mtitulo\u001b[0m\u001b[1;33m:\u001b[0m\u001b[1;33m\u001b[0m\u001b[1;33m\u001b[0m\u001b[0m\n",
      "\u001b[1;32mc:\\Users\\Gabriel Castillo\\AppData\\Local\\Programs\\Python\\Python37\\lib\\site-packages\\selenium\\webdriver\\remote\\webdriver.py\u001b[0m in \u001b[0;36mfind_elements\u001b[1;34m(self, by, value)\u001b[0m\n\u001b[0;32m    889\u001b[0m         return self.execute(Command.FIND_ELEMENTS, {\n\u001b[0;32m    890\u001b[0m             \u001b[1;34m'using'\u001b[0m\u001b[1;33m:\u001b[0m \u001b[0mby\u001b[0m\u001b[1;33m,\u001b[0m\u001b[1;33m\u001b[0m\u001b[1;33m\u001b[0m\u001b[0m\n\u001b[1;32m--> 891\u001b[1;33m             'value': value})['value'] or []\n\u001b[0m\u001b[0;32m    892\u001b[0m \u001b[1;33m\u001b[0m\u001b[0m\n\u001b[0;32m    893\u001b[0m     \u001b[1;33m@\u001b[0m\u001b[0mproperty\u001b[0m\u001b[1;33m\u001b[0m\u001b[1;33m\u001b[0m\u001b[0m\n",
      "\u001b[1;32mc:\\Users\\Gabriel Castillo\\AppData\\Local\\Programs\\Python\\Python37\\lib\\site-packages\\selenium\\webdriver\\remote\\webdriver.py\u001b[0m in \u001b[0;36mexecute\u001b[1;34m(self, driver_command, params)\u001b[0m\n\u001b[0;32m    425\u001b[0m \u001b[1;33m\u001b[0m\u001b[0m\n\u001b[0;32m    426\u001b[0m         \u001b[0mparams\u001b[0m \u001b[1;33m=\u001b[0m \u001b[0mself\u001b[0m\u001b[1;33m.\u001b[0m\u001b[0m_wrap_value\u001b[0m\u001b[1;33m(\u001b[0m\u001b[0mparams\u001b[0m\u001b[1;33m)\u001b[0m\u001b[1;33m\u001b[0m\u001b[1;33m\u001b[0m\u001b[0m\n\u001b[1;32m--> 427\u001b[1;33m         \u001b[0mresponse\u001b[0m \u001b[1;33m=\u001b[0m \u001b[0mself\u001b[0m\u001b[1;33m.\u001b[0m\u001b[0mcommand_executor\u001b[0m\u001b[1;33m.\u001b[0m\u001b[0mexecute\u001b[0m\u001b[1;33m(\u001b[0m\u001b[0mdriver_command\u001b[0m\u001b[1;33m,\u001b[0m \u001b[0mparams\u001b[0m\u001b[1;33m)\u001b[0m\u001b[1;33m\u001b[0m\u001b[1;33m\u001b[0m\u001b[0m\n\u001b[0m\u001b[0;32m    428\u001b[0m         \u001b[1;32mif\u001b[0m \u001b[0mresponse\u001b[0m\u001b[1;33m:\u001b[0m\u001b[1;33m\u001b[0m\u001b[1;33m\u001b[0m\u001b[0m\n\u001b[0;32m    429\u001b[0m             \u001b[0mself\u001b[0m\u001b[1;33m.\u001b[0m\u001b[0merror_handler\u001b[0m\u001b[1;33m.\u001b[0m\u001b[0mcheck_response\u001b[0m\u001b[1;33m(\u001b[0m\u001b[0mresponse\u001b[0m\u001b[1;33m)\u001b[0m\u001b[1;33m\u001b[0m\u001b[1;33m\u001b[0m\u001b[0m\n",
      "\u001b[1;32mc:\\Users\\Gabriel Castillo\\AppData\\Local\\Programs\\Python\\Python37\\lib\\site-packages\\selenium\\webdriver\\remote\\remote_connection.py\u001b[0m in \u001b[0;36mexecute\u001b[1;34m(self, command, params)\u001b[0m\n\u001b[0;32m    342\u001b[0m         \u001b[0mdata\u001b[0m \u001b[1;33m=\u001b[0m \u001b[0mutils\u001b[0m\u001b[1;33m.\u001b[0m\u001b[0mdump_json\u001b[0m\u001b[1;33m(\u001b[0m\u001b[0mparams\u001b[0m\u001b[1;33m)\u001b[0m\u001b[1;33m\u001b[0m\u001b[1;33m\u001b[0m\u001b[0m\n\u001b[0;32m    343\u001b[0m         \u001b[0murl\u001b[0m \u001b[1;33m=\u001b[0m \u001b[1;34mf\"{self._url}{path}\"\u001b[0m\u001b[1;33m\u001b[0m\u001b[1;33m\u001b[0m\u001b[0m\n\u001b[1;32m--> 344\u001b[1;33m         \u001b[1;32mreturn\u001b[0m \u001b[0mself\u001b[0m\u001b[1;33m.\u001b[0m\u001b[0m_request\u001b[0m\u001b[1;33m(\u001b[0m\u001b[0mcommand_info\u001b[0m\u001b[1;33m[\u001b[0m\u001b[1;36m0\u001b[0m\u001b[1;33m]\u001b[0m\u001b[1;33m,\u001b[0m \u001b[0murl\u001b[0m\u001b[1;33m,\u001b[0m \u001b[0mbody\u001b[0m\u001b[1;33m=\u001b[0m\u001b[0mdata\u001b[0m\u001b[1;33m)\u001b[0m\u001b[1;33m\u001b[0m\u001b[1;33m\u001b[0m\u001b[0m\n\u001b[0m\u001b[0;32m    345\u001b[0m \u001b[1;33m\u001b[0m\u001b[0m\n\u001b[0;32m    346\u001b[0m     \u001b[1;32mdef\u001b[0m \u001b[0m_request\u001b[0m\u001b[1;33m(\u001b[0m\u001b[0mself\u001b[0m\u001b[1;33m,\u001b[0m \u001b[0mmethod\u001b[0m\u001b[1;33m,\u001b[0m \u001b[0murl\u001b[0m\u001b[1;33m,\u001b[0m \u001b[0mbody\u001b[0m\u001b[1;33m=\u001b[0m\u001b[1;32mNone\u001b[0m\u001b[1;33m)\u001b[0m\u001b[1;33m:\u001b[0m\u001b[1;33m\u001b[0m\u001b[1;33m\u001b[0m\u001b[0m\n",
      "\u001b[1;32mc:\\Users\\Gabriel Castillo\\AppData\\Local\\Programs\\Python\\Python37\\lib\\site-packages\\selenium\\webdriver\\remote\\remote_connection.py\u001b[0m in \u001b[0;36m_request\u001b[1;34m(self, method, url, body)\u001b[0m\n\u001b[0;32m    364\u001b[0m \u001b[1;33m\u001b[0m\u001b[0m\n\u001b[0;32m    365\u001b[0m         \u001b[1;32mif\u001b[0m \u001b[0mself\u001b[0m\u001b[1;33m.\u001b[0m\u001b[0mkeep_alive\u001b[0m\u001b[1;33m:\u001b[0m\u001b[1;33m\u001b[0m\u001b[1;33m\u001b[0m\u001b[0m\n\u001b[1;32m--> 366\u001b[1;33m             \u001b[0mresponse\u001b[0m \u001b[1;33m=\u001b[0m \u001b[0mself\u001b[0m\u001b[1;33m.\u001b[0m\u001b[0m_conn\u001b[0m\u001b[1;33m.\u001b[0m\u001b[0mrequest\u001b[0m\u001b[1;33m(\u001b[0m\u001b[0mmethod\u001b[0m\u001b[1;33m,\u001b[0m \u001b[0murl\u001b[0m\u001b[1;33m,\u001b[0m \u001b[0mbody\u001b[0m\u001b[1;33m=\u001b[0m\u001b[0mbody\u001b[0m\u001b[1;33m,\u001b[0m \u001b[0mheaders\u001b[0m\u001b[1;33m=\u001b[0m\u001b[0mheaders\u001b[0m\u001b[1;33m)\u001b[0m\u001b[1;33m\u001b[0m\u001b[1;33m\u001b[0m\u001b[0m\n\u001b[0m\u001b[0;32m    367\u001b[0m             \u001b[0mstatuscode\u001b[0m \u001b[1;33m=\u001b[0m \u001b[0mresponse\u001b[0m\u001b[1;33m.\u001b[0m\u001b[0mstatus\u001b[0m\u001b[1;33m\u001b[0m\u001b[1;33m\u001b[0m\u001b[0m\n\u001b[0;32m    368\u001b[0m         \u001b[1;32melse\u001b[0m\u001b[1;33m:\u001b[0m\u001b[1;33m\u001b[0m\u001b[1;33m\u001b[0m\u001b[0m\n",
      "\u001b[1;32mc:\\Users\\Gabriel Castillo\\AppData\\Local\\Programs\\Python\\Python37\\lib\\site-packages\\urllib3\\request.py\u001b[0m in \u001b[0;36mrequest\u001b[1;34m(self, method, url, fields, headers, **urlopen_kw)\u001b[0m\n\u001b[0;32m     77\u001b[0m         \u001b[1;32melse\u001b[0m\u001b[1;33m:\u001b[0m\u001b[1;33m\u001b[0m\u001b[1;33m\u001b[0m\u001b[0m\n\u001b[0;32m     78\u001b[0m             return self.request_encode_body(\n\u001b[1;32m---> 79\u001b[1;33m                 \u001b[0mmethod\u001b[0m\u001b[1;33m,\u001b[0m \u001b[0murl\u001b[0m\u001b[1;33m,\u001b[0m \u001b[0mfields\u001b[0m\u001b[1;33m=\u001b[0m\u001b[0mfields\u001b[0m\u001b[1;33m,\u001b[0m \u001b[0mheaders\u001b[0m\u001b[1;33m=\u001b[0m\u001b[0mheaders\u001b[0m\u001b[1;33m,\u001b[0m \u001b[1;33m**\u001b[0m\u001b[0murlopen_kw\u001b[0m\u001b[1;33m\u001b[0m\u001b[1;33m\u001b[0m\u001b[0m\n\u001b[0m\u001b[0;32m     80\u001b[0m             )\n\u001b[0;32m     81\u001b[0m \u001b[1;33m\u001b[0m\u001b[0m\n",
      "\u001b[1;32mc:\\Users\\Gabriel Castillo\\AppData\\Local\\Programs\\Python\\Python37\\lib\\site-packages\\urllib3\\request.py\u001b[0m in \u001b[0;36mrequest_encode_body\u001b[1;34m(self, method, url, fields, headers, encode_multipart, multipart_boundary, **urlopen_kw)\u001b[0m\n\u001b[0;32m    168\u001b[0m         \u001b[0mextra_kw\u001b[0m\u001b[1;33m.\u001b[0m\u001b[0mupdate\u001b[0m\u001b[1;33m(\u001b[0m\u001b[0murlopen_kw\u001b[0m\u001b[1;33m)\u001b[0m\u001b[1;33m\u001b[0m\u001b[1;33m\u001b[0m\u001b[0m\n\u001b[0;32m    169\u001b[0m \u001b[1;33m\u001b[0m\u001b[0m\n\u001b[1;32m--> 170\u001b[1;33m         \u001b[1;32mreturn\u001b[0m \u001b[0mself\u001b[0m\u001b[1;33m.\u001b[0m\u001b[0murlopen\u001b[0m\u001b[1;33m(\u001b[0m\u001b[0mmethod\u001b[0m\u001b[1;33m,\u001b[0m \u001b[0murl\u001b[0m\u001b[1;33m,\u001b[0m \u001b[1;33m**\u001b[0m\u001b[0mextra_kw\u001b[0m\u001b[1;33m)\u001b[0m\u001b[1;33m\u001b[0m\u001b[1;33m\u001b[0m\u001b[0m\n\u001b[0m",
      "\u001b[1;32mc:\\Users\\Gabriel Castillo\\AppData\\Local\\Programs\\Python\\Python37\\lib\\site-packages\\urllib3\\poolmanager.py\u001b[0m in \u001b[0;36murlopen\u001b[1;34m(self, method, url, redirect, **kw)\u001b[0m\n\u001b[0;32m    374\u001b[0m             \u001b[0mresponse\u001b[0m \u001b[1;33m=\u001b[0m \u001b[0mconn\u001b[0m\u001b[1;33m.\u001b[0m\u001b[0murlopen\u001b[0m\u001b[1;33m(\u001b[0m\u001b[0mmethod\u001b[0m\u001b[1;33m,\u001b[0m \u001b[0murl\u001b[0m\u001b[1;33m,\u001b[0m \u001b[1;33m**\u001b[0m\u001b[0mkw\u001b[0m\u001b[1;33m)\u001b[0m\u001b[1;33m\u001b[0m\u001b[1;33m\u001b[0m\u001b[0m\n\u001b[0;32m    375\u001b[0m         \u001b[1;32melse\u001b[0m\u001b[1;33m:\u001b[0m\u001b[1;33m\u001b[0m\u001b[1;33m\u001b[0m\u001b[0m\n\u001b[1;32m--> 376\u001b[1;33m             \u001b[0mresponse\u001b[0m \u001b[1;33m=\u001b[0m \u001b[0mconn\u001b[0m\u001b[1;33m.\u001b[0m\u001b[0murlopen\u001b[0m\u001b[1;33m(\u001b[0m\u001b[0mmethod\u001b[0m\u001b[1;33m,\u001b[0m \u001b[0mu\u001b[0m\u001b[1;33m.\u001b[0m\u001b[0mrequest_uri\u001b[0m\u001b[1;33m,\u001b[0m \u001b[1;33m**\u001b[0m\u001b[0mkw\u001b[0m\u001b[1;33m)\u001b[0m\u001b[1;33m\u001b[0m\u001b[1;33m\u001b[0m\u001b[0m\n\u001b[0m\u001b[0;32m    377\u001b[0m \u001b[1;33m\u001b[0m\u001b[0m\n\u001b[0;32m    378\u001b[0m         \u001b[0mredirect_location\u001b[0m \u001b[1;33m=\u001b[0m \u001b[0mredirect\u001b[0m \u001b[1;32mand\u001b[0m \u001b[0mresponse\u001b[0m\u001b[1;33m.\u001b[0m\u001b[0mget_redirect_location\u001b[0m\u001b[1;33m(\u001b[0m\u001b[1;33m)\u001b[0m\u001b[1;33m\u001b[0m\u001b[1;33m\u001b[0m\u001b[0m\n",
      "\u001b[1;32mc:\\Users\\Gabriel Castillo\\AppData\\Local\\Programs\\Python\\Python37\\lib\\site-packages\\urllib3\\connectionpool.py\u001b[0m in \u001b[0;36murlopen\u001b[1;34m(self, method, url, body, headers, retries, redirect, assert_same_host, timeout, pool_timeout, release_conn, chunked, body_pos, **response_kw)\u001b[0m\n\u001b[0;32m    826\u001b[0m                 \u001b[0mchunked\u001b[0m\u001b[1;33m=\u001b[0m\u001b[0mchunked\u001b[0m\u001b[1;33m,\u001b[0m\u001b[1;33m\u001b[0m\u001b[1;33m\u001b[0m\u001b[0m\n\u001b[0;32m    827\u001b[0m                 \u001b[0mbody_pos\u001b[0m\u001b[1;33m=\u001b[0m\u001b[0mbody_pos\u001b[0m\u001b[1;33m,\u001b[0m\u001b[1;33m\u001b[0m\u001b[1;33m\u001b[0m\u001b[0m\n\u001b[1;32m--> 828\u001b[1;33m                 \u001b[1;33m**\u001b[0m\u001b[0mresponse_kw\u001b[0m\u001b[1;33m\u001b[0m\u001b[1;33m\u001b[0m\u001b[0m\n\u001b[0m\u001b[0;32m    829\u001b[0m             )\n\u001b[0;32m    830\u001b[0m \u001b[1;33m\u001b[0m\u001b[0m\n",
      "\u001b[1;32mc:\\Users\\Gabriel Castillo\\AppData\\Local\\Programs\\Python\\Python37\\lib\\site-packages\\urllib3\\connectionpool.py\u001b[0m in \u001b[0;36murlopen\u001b[1;34m(self, method, url, body, headers, retries, redirect, assert_same_host, timeout, pool_timeout, release_conn, chunked, body_pos, **response_kw)\u001b[0m\n\u001b[0;32m    826\u001b[0m                 \u001b[0mchunked\u001b[0m\u001b[1;33m=\u001b[0m\u001b[0mchunked\u001b[0m\u001b[1;33m,\u001b[0m\u001b[1;33m\u001b[0m\u001b[1;33m\u001b[0m\u001b[0m\n\u001b[0;32m    827\u001b[0m                 \u001b[0mbody_pos\u001b[0m\u001b[1;33m=\u001b[0m\u001b[0mbody_pos\u001b[0m\u001b[1;33m,\u001b[0m\u001b[1;33m\u001b[0m\u001b[1;33m\u001b[0m\u001b[0m\n\u001b[1;32m--> 828\u001b[1;33m                 \u001b[1;33m**\u001b[0m\u001b[0mresponse_kw\u001b[0m\u001b[1;33m\u001b[0m\u001b[1;33m\u001b[0m\u001b[0m\n\u001b[0m\u001b[0;32m    829\u001b[0m             )\n\u001b[0;32m    830\u001b[0m \u001b[1;33m\u001b[0m\u001b[0m\n",
      "\u001b[1;32mc:\\Users\\Gabriel Castillo\\AppData\\Local\\Programs\\Python\\Python37\\lib\\site-packages\\urllib3\\connectionpool.py\u001b[0m in \u001b[0;36murlopen\u001b[1;34m(self, method, url, body, headers, retries, redirect, assert_same_host, timeout, pool_timeout, release_conn, chunked, body_pos, **response_kw)\u001b[0m\n\u001b[0;32m    826\u001b[0m                 \u001b[0mchunked\u001b[0m\u001b[1;33m=\u001b[0m\u001b[0mchunked\u001b[0m\u001b[1;33m,\u001b[0m\u001b[1;33m\u001b[0m\u001b[1;33m\u001b[0m\u001b[0m\n\u001b[0;32m    827\u001b[0m                 \u001b[0mbody_pos\u001b[0m\u001b[1;33m=\u001b[0m\u001b[0mbody_pos\u001b[0m\u001b[1;33m,\u001b[0m\u001b[1;33m\u001b[0m\u001b[1;33m\u001b[0m\u001b[0m\n\u001b[1;32m--> 828\u001b[1;33m                 \u001b[1;33m**\u001b[0m\u001b[0mresponse_kw\u001b[0m\u001b[1;33m\u001b[0m\u001b[1;33m\u001b[0m\u001b[0m\n\u001b[0m\u001b[0;32m    829\u001b[0m             )\n\u001b[0;32m    830\u001b[0m \u001b[1;33m\u001b[0m\u001b[0m\n",
      "\u001b[1;32mc:\\Users\\Gabriel Castillo\\AppData\\Local\\Programs\\Python\\Python37\\lib\\site-packages\\urllib3\\connectionpool.py\u001b[0m in \u001b[0;36murlopen\u001b[1;34m(self, method, url, body, headers, retries, redirect, assert_same_host, timeout, pool_timeout, release_conn, chunked, body_pos, **response_kw)\u001b[0m\n\u001b[0;32m    786\u001b[0m \u001b[1;33m\u001b[0m\u001b[0m\n\u001b[0;32m    787\u001b[0m             retries = retries.increment(\n\u001b[1;32m--> 788\u001b[1;33m                 \u001b[0mmethod\u001b[0m\u001b[1;33m,\u001b[0m \u001b[0murl\u001b[0m\u001b[1;33m,\u001b[0m \u001b[0merror\u001b[0m\u001b[1;33m=\u001b[0m\u001b[0me\u001b[0m\u001b[1;33m,\u001b[0m \u001b[0m_pool\u001b[0m\u001b[1;33m=\u001b[0m\u001b[0mself\u001b[0m\u001b[1;33m,\u001b[0m \u001b[0m_stacktrace\u001b[0m\u001b[1;33m=\u001b[0m\u001b[0msys\u001b[0m\u001b[1;33m.\u001b[0m\u001b[0mexc_info\u001b[0m\u001b[1;33m(\u001b[0m\u001b[1;33m)\u001b[0m\u001b[1;33m[\u001b[0m\u001b[1;36m2\u001b[0m\u001b[1;33m]\u001b[0m\u001b[1;33m\u001b[0m\u001b[1;33m\u001b[0m\u001b[0m\n\u001b[0m\u001b[0;32m    789\u001b[0m             )\n\u001b[0;32m    790\u001b[0m             \u001b[0mretries\u001b[0m\u001b[1;33m.\u001b[0m\u001b[0msleep\u001b[0m\u001b[1;33m(\u001b[0m\u001b[1;33m)\u001b[0m\u001b[1;33m\u001b[0m\u001b[1;33m\u001b[0m\u001b[0m\n",
      "\u001b[1;32mc:\\Users\\Gabriel Castillo\\AppData\\Local\\Programs\\Python\\Python37\\lib\\site-packages\\urllib3\\util\\retry.py\u001b[0m in \u001b[0;36mincrement\u001b[1;34m(self, method, url, response, error, _pool, _stacktrace)\u001b[0m\n\u001b[0;32m    590\u001b[0m \u001b[1;33m\u001b[0m\u001b[0m\n\u001b[0;32m    591\u001b[0m         \u001b[1;32mif\u001b[0m \u001b[0mnew_retry\u001b[0m\u001b[1;33m.\u001b[0m\u001b[0mis_exhausted\u001b[0m\u001b[1;33m(\u001b[0m\u001b[1;33m)\u001b[0m\u001b[1;33m:\u001b[0m\u001b[1;33m\u001b[0m\u001b[1;33m\u001b[0m\u001b[0m\n\u001b[1;32m--> 592\u001b[1;33m             \u001b[1;32mraise\u001b[0m \u001b[0mMaxRetryError\u001b[0m\u001b[1;33m(\u001b[0m\u001b[0m_pool\u001b[0m\u001b[1;33m,\u001b[0m \u001b[0murl\u001b[0m\u001b[1;33m,\u001b[0m \u001b[0merror\u001b[0m \u001b[1;32mor\u001b[0m \u001b[0mResponseError\u001b[0m\u001b[1;33m(\u001b[0m\u001b[0mcause\u001b[0m\u001b[1;33m)\u001b[0m\u001b[1;33m)\u001b[0m\u001b[1;33m\u001b[0m\u001b[1;33m\u001b[0m\u001b[0m\n\u001b[0m\u001b[0;32m    593\u001b[0m \u001b[1;33m\u001b[0m\u001b[0m\n\u001b[0;32m    594\u001b[0m         \u001b[0mlog\u001b[0m\u001b[1;33m.\u001b[0m\u001b[0mdebug\u001b[0m\u001b[1;33m(\u001b[0m\u001b[1;34m\"Incremented Retry for (url='%s'): %r\"\u001b[0m\u001b[1;33m,\u001b[0m \u001b[0murl\u001b[0m\u001b[1;33m,\u001b[0m \u001b[0mnew_retry\u001b[0m\u001b[1;33m)\u001b[0m\u001b[1;33m\u001b[0m\u001b[1;33m\u001b[0m\u001b[0m\n",
      "\u001b[1;31mMaxRetryError\u001b[0m: HTTPConnectionPool(host='localhost', port=63639): Max retries exceeded with url: /session/75d2836ee1771e5fbc72e9bf6631b98a/elements (Caused by NewConnectionError('<urllib3.connection.HTTPConnection object at 0x000001A1A4E6D4C8>: Failed to establish a new connection: [WinError 10061] No se puede establecer una conexión ya que el equipo de destino denegó expresamente dicha conexión'))"
     ]
    }
   ],
   "source": [
    "list_pages =[]\n",
    "for i in range(0, 11950, 30):\n",
    "    link = f\"https://www.tripadvisor.es/RestaurantSearch-g187514-oa{i}-a_date.2022__2D__11__2D__15-a_people.2-a_time.20%3A00%3A00-a_zur.2022__5F__11__5F__15-Madrid.html#EATERY_LIST_CONTENTS\"\n",
    "    list_pages.append(link)\n",
    "\n",
    "for page in list_pages[:3]:\n",
    "    service = Service(ChromeDriverManager().install())\n",
    "    driver = webdriver.Chrome(service=service)\n",
    "    driver.get(page)\n",
    "    time.sleep(5)\n",
    "    elements_by_ID = driver.find_element(By.XPATH, '//*[@id=\"onetrust-accept-btn-handler\"]')\n",
    "    elements_by_ID.click()\n",
    "    driver.quit()\n",
    "    time.sleep(5)\n",
    "    titulo = driver.find_elements(by=By.CSS_SELECTOR, value=\"div.RfBGI\")\n",
    "    nombres=[]\n",
    "    for nombre in titulo:\n",
    "        nombres.append(nombre.text)\n",
    "            # puntuacion\n",
    "\n",
    "    estilo_comida_plata_reviews = driver.find_elements(by=By.CLASS_NAME, value='ABgbd')\n",
    "    estilo=[]\n",
    "    for tipo in estilo_comida_plata_reviews :\n",
    "        estilo.append(tipo.text)\n",
    "\n",
    "        # estilo\n",
    "        # n= 1\n",
    "        # fragmentado=[estilo[i:i + n] for i in range(0, len(estilo), n)]\n",
    "        # opiniones=[estilo[i:i + n] for i in range(0, len(estilo), n)]\n",
    "        # estado = [estilo[i:i + n] for i in range(0, len(estilo), n)]\n",
    "        # tipo_de_comida = [estilo[i:i + n] for i in range(0, len(estilo), n)]\n",
    "        # precio = [estilo[i:i + n] for i in range(0, len(estilo), n)]\n",
    "\n",
    "    data = {\"Nombre Restaurante\": nombres,\n",
    "                    # \"Puntuacion\": puntuacion, \n",
    "                    # \"Ranking\": estilo\n",
    "                    # \"Opiniones\": opiniones\n",
    "                    # \"Estado\": estado,\n",
    "                    # \"Tipo de comida\": tipo_de_comida,\n",
    "                    # \"Precio\": precio\n",
    "                    }\n",
    "\n",
    "    lista_restaurantes.append(data)\n",
    "\n",
    "print(lista_restaurantes)\n",
    "    "
   ]
  },
  {
   "cell_type": "code",
   "execution_count": 7,
   "metadata": {},
   "outputs": [
    {
     "name": "stdout",
     "output_type": "stream",
     "text": [
      "[['2970 opiniones'], ['Abierto ahora'], ['Mexicana, Japonesa'], ['€€ - €€€'], ['117 opiniones'], ['Abierto ahora'], ['Argentina, Latina'], ['€€ - €€€'], ['10.312 opiniones'], ['Abierto ahora'], ['Española, Internacional'], ['€€ - €€€'], ['557 opiniones'], ['Abierto ahora'], ['Italiana, Pizza'], ['€€ - €€€'], ['2518 opiniones'], ['Cierra en 30 minutos'], ['India, Asiática'], ['€€ - €€€'], ['1107 opiniones'], ['Cerrado ahora'], ['Mediterránea, Española'], ['€€ - €€€'], ['206 opiniones'], ['Abierto ahora'], ['Fusión, Japonesa'], ['€€ - €€€'], ['633 opiniones'], ['Cierra en 30 minutos'], ['Restaurante de carne, Barbacoa'], ['€€ - €€€'], ['373 opiniones'], ['Abierto ahora'], ['Italiana, Mediterránea'], ['€€ - €€€'], ['546 opiniones'], ['Cierra en 30 minutos'], ['Japonesa, Sushi'], ['€€ - €€€'], ['1680 opiniones'], ['Cerrado hoy'], ['Internacional, Mediterránea'], ['€€ - €€€'], ['193 opiniones'], ['Cierra en 30 minutos'], ['Café, Mediterránea'], ['€€ - €€€'], ['806 opiniones'], ['Cierra en 30 minutos'], ['India, Asiática'], ['€€ - €€€'], ['2909 opiniones'], ['Abierto ahora'], ['Café, Europea'], ['€€ - €€€'], ['3385 opiniones'], ['Abierto ahora'], ['Latina, Bar'], ['€€ - €€€'], ['216 opiniones'], ['Abierto ahora'], ['Italiana, Pizza'], ['1467 opiniones'], ['Abierto ahora'], ['Mediterránea, Española'], ['€€ - €€€'], ['785 opiniones'], ['Abierto ahora'], ['Peruana, Latina'], ['€€ - €€€'], ['4 opiniones'], ['Cerrado ahora'], ['Bar, Pub'], ['284 opiniones'], ['Abierto ahora'], ['Argentina'], ['€€ - €€€'], ['2970 opiniones'], ['Abierto ahora'], ['Mexicana, Japonesa'], ['€€ - €€€'], ['2285 opiniones'], ['Cierra en 30 minutos'], ['Italiana, Napolitana'], ['€€ - €€€'], ['1363 opiniones'], ['Cierra en 30 minutos'], ['Italiana, Mediterránea'], ['€€ - €€€'], ['478 opiniones'], ['Cierra en 30 minutos'], ['Japonesa, Sushi'], ['€€ - €€€'], ['326 opiniones'], ['Cierra en 30 minutos'], ['Mediterránea, Europea'], ['€€ - €€€'], ['296 opiniones'], ['Abierto ahora'], ['Italiana, Pizza'], ['€€ - €€€'], ['3014 opiniones'], ['Abierto ahora'], ['Americana, Barbacoa'], ['€€ - €€€'], ['291 opiniones'], ['Abierto ahora'], ['Mediterránea, Europea'], ['€€ - €€€'], ['186 opiniones'], ['Abierto ahora'], ['Italiana, Pizza'], ['€€ - €€€'], ['1741 opiniones'], ['Abierto ahora'], ['Mediterránea, Europea'], ['€€ - €€€'], ['Sé el primero en ofrecer tu opinión sobre este restaurante'], ['Abierto ahora'], ['Americana, Latina'], ['4053 opiniones'], ['Abierto ahora'], ['Americana, Restaurante de carne'], ['€€ - €€€'], ['187 opiniones'], ['Cierra en 30 minutos'], ['Sushi, Asiática'], ['€€ - €€€'], ['576 opiniones'], ['Cierra en 30 minutos'], ['India'], ['€'], ['2904 opiniones'], ['Abierto ahora'], ['Restaurante de carne, Latina'], ['€€ - €€€'], ['912 opiniones'], ['Cierra en 30 minutos'], ['Fusión'], ['€€ - €€€'], ['38 opiniones'], ['Mediterránea, Italiana'], ['€€ - €€€']]\n"
     ]
    }
   ],
   "source": [
    "estil1 = estilo.copy\n",
    "n= 1\n",
    "output=[estilo[i:i + n] for i in range(0, len(estilo), n)]\n",
    "print(output)\n",
    "hola = output"
   ]
  },
  {
   "cell_type": "code",
   "execution_count": 12,
   "metadata": {},
   "outputs": [
    {
     "name": "stdout",
     "output_type": "stream",
     "text": [
      "['Mexicana, Japonesa']\n",
      "['Argentina, Latina']\n",
      "['Española, Internacional']\n",
      "['Italiana, Pizza']\n",
      "['India, Asiática']\n",
      "['Mediterránea, Española']\n",
      "['Fusión, Japonesa']\n",
      "['Restaurante de carne, Barbacoa']\n",
      "['Italiana, Mediterránea']\n",
      "['Japonesa, Sushi']\n",
      "['Internacional, Mediterránea']\n",
      "['Café, Mediterránea']\n",
      "['India, Asiática']\n",
      "['Café, Europea']\n",
      "['Latina, Bar']\n",
      "['Italiana, Pizza']\n",
      "['Mediterránea, Española']\n",
      "['Peruana, Latina']\n",
      "['Bar, Pub']\n",
      "['Argentina']\n",
      "['Mexicana, Japonesa']\n",
      "['Italiana, Napolitana']\n",
      "['Italiana, Mediterránea']\n",
      "['Japonesa, Sushi']\n",
      "['Mediterránea, Europea']\n",
      "['Italiana, Pizza']\n",
      "['Americana, Barbacoa']\n",
      "['Mediterránea, Europea']\n",
      "['Italiana, Pizza']\n",
      "['Mediterránea, Europea']\n",
      "['Sé el primero en ofrecer tu opinión sobre este restaurante']\n",
      "['Americana, Latina']\n",
      "['Americana, Restaurante de carne']\n",
      "['Sushi, Asiática']\n",
      "['India']\n",
      "['Restaurante de carne, Latina']\n",
      "['Fusión']\n",
      "['Mediterránea, Italiana']\n"
     ]
    }
   ],
   "source": [
    "opiniones = []\n",
    "\n",
    "for x in hola:\n",
    "    if not \"opiniones\" in x[0] and not \"Abierto\" in x[0] and not \"Cerrado\" in x[0] and not '€€ - €€€' in x[0] and not '€' in x[0] and not \"Cierra\" in x[0]:\n",
    "        print(x)\n",
    "  \n"
   ]
  },
  {
   "cell_type": "code",
   "execution_count": 60,
   "metadata": {},
   "outputs": [],
   "source": [
    "# opiniones=[op for op in output if op.startswith(str(range(0,10)))]\n",
    "# estado = []\n",
    "# tipo_de_comida = []\n",
    "# precio = []\n",
    "# output\n",
    "# # se hace un bucle que asocie la posicion del articulo a las 3 listas que necesito \n",
    "\n",
    "\n",
    "\n"
   ]
  },
  {
   "cell_type": "code",
   "execution_count": 23,
   "metadata": {},
   "outputs": [],
   "source": [
    "list_pages =[]\n",
    "for i in range(0, 11950, 30):\n",
    "    link = f\"https://www.tripadvisor.es/RestaurantSearch-g187514-oa{i}-a_date.2022__2D__11__2D__15-a_people.2-a_time.20%3A00%3A00-a_zur.2022__5F__11__5F__15-Madrid.html#EATERY_LIST_CONTENTS\"\n",
    "    list_pages.append(link)"
   ]
  }
 ],
 "metadata": {
  "kernelspec": {
   "display_name": "Python 3.7.4 64-bit",
   "language": "python",
   "name": "python3"
  },
  "language_info": {
   "codemirror_mode": {
    "name": "ipython",
    "version": 3
   },
   "file_extension": ".py",
   "mimetype": "text/x-python",
   "name": "python",
   "nbconvert_exporter": "python",
   "pygments_lexer": "ipython3",
   "version": "3.7.4"
  },
  "orig_nbformat": 4,
  "vscode": {
   "interpreter": {
    "hash": "bf578ae2f05cd0bf79fc58c6d9676327b42cc704d3c90195b19dcfd7d863a264"
   }
  }
 },
 "nbformat": 4,
 "nbformat_minor": 2
}
